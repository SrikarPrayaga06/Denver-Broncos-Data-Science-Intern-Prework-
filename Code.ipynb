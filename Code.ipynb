{
 "metadata": {
  "language_info": {
   "codemirror_mode": {
    "name": "ipython",
    "version": 3
   },
   "file_extension": ".py",
   "mimetype": "text/x-python",
   "name": "python",
   "nbconvert_exporter": "python",
   "pygments_lexer": "ipython3",
   "version": "3.9.2"
  },
  "orig_nbformat": 2,
  "kernelspec": {
   "name": "python392jvsc74a57bd0ac2eaa0ea0ebeafcc7822e65e46aa9d4f966f30b695406963e145ea4a91cd4fc",
   "display_name": "Python 3.9.2 64-bit ('python@3.9')"
  },
  "metadata": {
   "interpreter": {
    "hash": "ac2eaa0ea0ebeafcc7822e65e46aa9d4f966f30b695406963e145ea4a91cd4fc"
   }
  }
 },
 "nbformat": 4,
 "nbformat_minor": 2,
 "cells": [
  {
   "cell_type": "code",
   "execution_count": 2,
   "metadata": {},
   "outputs": [],
   "source": [
    "import pandas as pd\n",
    "import numpy as np"
   ]
  },
  {
   "cell_type": "code",
   "execution_count": 3,
   "metadata": {},
   "outputs": [],
   "source": [
    "# import data\n",
    "owners=pd.read_csv(\"/Users/srikarprayaga/Desktop/Denver-Broncos-Data-Science-Intern-Prework-/data/owners.csv\")\n",
    "pets=pd.read_csv(\"/Users/srikarprayaga/Desktop/Denver-Broncos-Data-Science-Intern-Prework-/data/pets.csv\")\n",
    "procedure_details=pd.read_csv(\"/Users/srikarprayaga/Desktop/Denver-Broncos-Data-Science-Intern-Prework-/data/procedure_details.csv\")\n",
    "procedures=pd.read_csv(\"/Users/srikarprayaga/Desktop/Denver-Broncos-Data-Science-Intern-Prework-/data/procedures.csv\")"
   ]
  },
  {
   "cell_type": "code",
   "execution_count": 5,
   "metadata": {},
   "outputs": [
    {
     "output_type": "execute_result",
     "data": {
      "text/plain": [
       "   OwnerID     Name     Surname          StreetAddress                 City  \\\n",
       "0     6049   Debbie    Metivier        315 Goff Avenue         Grand Rapids   \n",
       "1     2863     John   Sebastian      3221 Perry Street              Davison   \n",
       "2     3518   Connie      Pauley  1539 Cunningham Court  Bloomfield Township   \n",
       "3     3663     Lena  Haliburton   4217 Twin Oaks Drive        Traverse City   \n",
       "4     1070  Jessica   Velazquez   3861 Woodbridge Lane           Southfield   \n",
       "5     7101   Bessie         Yen    30 Cunningham Court      Rochester Hills   \n",
       "6     2419    Luisa     Cuellar   1308 Shingleton Road            Kalamazoo   \n",
       "7     6194    Karen      Torres     3941 Ritter Avenue          Center Line   \n",
       "8     5833     Mary     Hurtado     4865 Juniper Drive        Saint Charles   \n",
       "9     9614   Carmen      Ingram       1056 Eagle Drive              Detroit   \n",
       "\n",
       "  State StateFull  ZipCode  \n",
       "0    MI  Michigan    49503  \n",
       "1    MI  Michigan    48423  \n",
       "2    MI  Michigan    48302  \n",
       "3    MI  Michigan    49684  \n",
       "4    MI  Michigan    48034  \n",
       "5    MI  Michigan    48306  \n",
       "6    MI  Michigan    49007  \n",
       "7    MI  Michigan    48015  \n",
       "8    MI  Michigan    48655  \n",
       "9    MI  Michigan    48219  "
      ],
      "text/html": "<div>\n<style scoped>\n    .dataframe tbody tr th:only-of-type {\n        vertical-align: middle;\n    }\n\n    .dataframe tbody tr th {\n        vertical-align: top;\n    }\n\n    .dataframe thead th {\n        text-align: right;\n    }\n</style>\n<table border=\"1\" class=\"dataframe\">\n  <thead>\n    <tr style=\"text-align: right;\">\n      <th></th>\n      <th>OwnerID</th>\n      <th>Name</th>\n      <th>Surname</th>\n      <th>StreetAddress</th>\n      <th>City</th>\n      <th>State</th>\n      <th>StateFull</th>\n      <th>ZipCode</th>\n    </tr>\n  </thead>\n  <tbody>\n    <tr>\n      <th>0</th>\n      <td>6049</td>\n      <td>Debbie</td>\n      <td>Metivier</td>\n      <td>315 Goff Avenue</td>\n      <td>Grand Rapids</td>\n      <td>MI</td>\n      <td>Michigan</td>\n      <td>49503</td>\n    </tr>\n    <tr>\n      <th>1</th>\n      <td>2863</td>\n      <td>John</td>\n      <td>Sebastian</td>\n      <td>3221 Perry Street</td>\n      <td>Davison</td>\n      <td>MI</td>\n      <td>Michigan</td>\n      <td>48423</td>\n    </tr>\n    <tr>\n      <th>2</th>\n      <td>3518</td>\n      <td>Connie</td>\n      <td>Pauley</td>\n      <td>1539 Cunningham Court</td>\n      <td>Bloomfield Township</td>\n      <td>MI</td>\n      <td>Michigan</td>\n      <td>48302</td>\n    </tr>\n    <tr>\n      <th>3</th>\n      <td>3663</td>\n      <td>Lena</td>\n      <td>Haliburton</td>\n      <td>4217 Twin Oaks Drive</td>\n      <td>Traverse City</td>\n      <td>MI</td>\n      <td>Michigan</td>\n      <td>49684</td>\n    </tr>\n    <tr>\n      <th>4</th>\n      <td>1070</td>\n      <td>Jessica</td>\n      <td>Velazquez</td>\n      <td>3861 Woodbridge Lane</td>\n      <td>Southfield</td>\n      <td>MI</td>\n      <td>Michigan</td>\n      <td>48034</td>\n    </tr>\n    <tr>\n      <th>5</th>\n      <td>7101</td>\n      <td>Bessie</td>\n      <td>Yen</td>\n      <td>30 Cunningham Court</td>\n      <td>Rochester Hills</td>\n      <td>MI</td>\n      <td>Michigan</td>\n      <td>48306</td>\n    </tr>\n    <tr>\n      <th>6</th>\n      <td>2419</td>\n      <td>Luisa</td>\n      <td>Cuellar</td>\n      <td>1308 Shingleton Road</td>\n      <td>Kalamazoo</td>\n      <td>MI</td>\n      <td>Michigan</td>\n      <td>49007</td>\n    </tr>\n    <tr>\n      <th>7</th>\n      <td>6194</td>\n      <td>Karen</td>\n      <td>Torres</td>\n      <td>3941 Ritter Avenue</td>\n      <td>Center Line</td>\n      <td>MI</td>\n      <td>Michigan</td>\n      <td>48015</td>\n    </tr>\n    <tr>\n      <th>8</th>\n      <td>5833</td>\n      <td>Mary</td>\n      <td>Hurtado</td>\n      <td>4865 Juniper Drive</td>\n      <td>Saint Charles</td>\n      <td>MI</td>\n      <td>Michigan</td>\n      <td>48655</td>\n    </tr>\n    <tr>\n      <th>9</th>\n      <td>9614</td>\n      <td>Carmen</td>\n      <td>Ingram</td>\n      <td>1056 Eagle Drive</td>\n      <td>Detroit</td>\n      <td>MI</td>\n      <td>Michigan</td>\n      <td>48219</td>\n    </tr>\n  </tbody>\n</table>\n</div>"
     },
     "metadata": {},
     "execution_count": 5
    }
   ],
   "source": [
    "owners.head(10)"
   ]
  },
  {
   "cell_type": "code",
   "execution_count": 6,
   "metadata": {},
   "outputs": [
    {
     "output_type": "execute_result",
     "data": {
      "text/plain": [
       "     PetID        Name    Kind  Gender  Age  OwnerID\n",
       "0  J6-8562      Brandy     Dog    male   11     5168\n",
       "1  Q0-2001      Roomba     Cat    male    9     5508\n",
       "2  M0-2904       Simba     Cat    male    1     3086\n",
       "3  R3-7551      Keller  Parrot  female    2     7908\n",
       "4  P2-7342     Cuddles     Dog    male   13     4378\n",
       "5  X0-8765     Vuitton  Parrot  female   11     7581\n",
       "6  Z4-5652       Priya     Cat  female    7     7343\n",
       "7  Z4-4045       Simba     Cat    male    0     2700\n",
       "8  M8-7852      Cookie     Cat  female    8     7606\n",
       "9  J2-3320  Heisenberg     Dog    male    3     1319"
      ],
      "text/html": "<div>\n<style scoped>\n    .dataframe tbody tr th:only-of-type {\n        vertical-align: middle;\n    }\n\n    .dataframe tbody tr th {\n        vertical-align: top;\n    }\n\n    .dataframe thead th {\n        text-align: right;\n    }\n</style>\n<table border=\"1\" class=\"dataframe\">\n  <thead>\n    <tr style=\"text-align: right;\">\n      <th></th>\n      <th>PetID</th>\n      <th>Name</th>\n      <th>Kind</th>\n      <th>Gender</th>\n      <th>Age</th>\n      <th>OwnerID</th>\n    </tr>\n  </thead>\n  <tbody>\n    <tr>\n      <th>0</th>\n      <td>J6-8562</td>\n      <td>Brandy</td>\n      <td>Dog</td>\n      <td>male</td>\n      <td>11</td>\n      <td>5168</td>\n    </tr>\n    <tr>\n      <th>1</th>\n      <td>Q0-2001</td>\n      <td>Roomba</td>\n      <td>Cat</td>\n      <td>male</td>\n      <td>9</td>\n      <td>5508</td>\n    </tr>\n    <tr>\n      <th>2</th>\n      <td>M0-2904</td>\n      <td>Simba</td>\n      <td>Cat</td>\n      <td>male</td>\n      <td>1</td>\n      <td>3086</td>\n    </tr>\n    <tr>\n      <th>3</th>\n      <td>R3-7551</td>\n      <td>Keller</td>\n      <td>Parrot</td>\n      <td>female</td>\n      <td>2</td>\n      <td>7908</td>\n    </tr>\n    <tr>\n      <th>4</th>\n      <td>P2-7342</td>\n      <td>Cuddles</td>\n      <td>Dog</td>\n      <td>male</td>\n      <td>13</td>\n      <td>4378</td>\n    </tr>\n    <tr>\n      <th>5</th>\n      <td>X0-8765</td>\n      <td>Vuitton</td>\n      <td>Parrot</td>\n      <td>female</td>\n      <td>11</td>\n      <td>7581</td>\n    </tr>\n    <tr>\n      <th>6</th>\n      <td>Z4-5652</td>\n      <td>Priya</td>\n      <td>Cat</td>\n      <td>female</td>\n      <td>7</td>\n      <td>7343</td>\n    </tr>\n    <tr>\n      <th>7</th>\n      <td>Z4-4045</td>\n      <td>Simba</td>\n      <td>Cat</td>\n      <td>male</td>\n      <td>0</td>\n      <td>2700</td>\n    </tr>\n    <tr>\n      <th>8</th>\n      <td>M8-7852</td>\n      <td>Cookie</td>\n      <td>Cat</td>\n      <td>female</td>\n      <td>8</td>\n      <td>7606</td>\n    </tr>\n    <tr>\n      <th>9</th>\n      <td>J2-3320</td>\n      <td>Heisenberg</td>\n      <td>Dog</td>\n      <td>male</td>\n      <td>3</td>\n      <td>1319</td>\n    </tr>\n  </tbody>\n</table>\n</div>"
     },
     "metadata": {},
     "execution_count": 6
    }
   ],
   "source": [
    "pets.head(10)"
   ]
  },
  {
   "cell_type": "code",
   "execution_count": 10,
   "metadata": {},
   "outputs": [
    {
     "output_type": "execute_result",
     "data": {
      "text/plain": [
       "  ProcedureType  ProcedureSubCode      Description  Price\n",
       "0   OFFICE FEES                 1      Office Call     32\n",
       "1   OFFICE FEES                 2        Emergency    100\n",
       "2   OFFICE FEES                 3             Reck     24\n",
       "3      GROOMING                 1             Bath     15\n",
       "4      GROOMING                 2         Flea Dip     15\n",
       "5      GROOMING                 3       Flea Spray     10\n",
       "6  VACCINATIONS                 1  Galaxie (DHLPP)     15\n",
       "7  VACCINATIONS                 2         Leukemia     20\n",
       "8  VACCINATIONS                 3             Lyme     15\n",
       "9  VACCINATIONS                 4              PCR     15"
      ],
      "text/html": "<div>\n<style scoped>\n    .dataframe tbody tr th:only-of-type {\n        vertical-align: middle;\n    }\n\n    .dataframe tbody tr th {\n        vertical-align: top;\n    }\n\n    .dataframe thead th {\n        text-align: right;\n    }\n</style>\n<table border=\"1\" class=\"dataframe\">\n  <thead>\n    <tr style=\"text-align: right;\">\n      <th></th>\n      <th>ProcedureType</th>\n      <th>ProcedureSubCode</th>\n      <th>Description</th>\n      <th>Price</th>\n    </tr>\n  </thead>\n  <tbody>\n    <tr>\n      <th>0</th>\n      <td>OFFICE FEES</td>\n      <td>1</td>\n      <td>Office Call</td>\n      <td>32</td>\n    </tr>\n    <tr>\n      <th>1</th>\n      <td>OFFICE FEES</td>\n      <td>2</td>\n      <td>Emergency</td>\n      <td>100</td>\n    </tr>\n    <tr>\n      <th>2</th>\n      <td>OFFICE FEES</td>\n      <td>3</td>\n      <td>Reck</td>\n      <td>24</td>\n    </tr>\n    <tr>\n      <th>3</th>\n      <td>GROOMING</td>\n      <td>1</td>\n      <td>Bath</td>\n      <td>15</td>\n    </tr>\n    <tr>\n      <th>4</th>\n      <td>GROOMING</td>\n      <td>2</td>\n      <td>Flea Dip</td>\n      <td>15</td>\n    </tr>\n    <tr>\n      <th>5</th>\n      <td>GROOMING</td>\n      <td>3</td>\n      <td>Flea Spray</td>\n      <td>10</td>\n    </tr>\n    <tr>\n      <th>6</th>\n      <td>VACCINATIONS</td>\n      <td>1</td>\n      <td>Galaxie (DHLPP)</td>\n      <td>15</td>\n    </tr>\n    <tr>\n      <th>7</th>\n      <td>VACCINATIONS</td>\n      <td>2</td>\n      <td>Leukemia</td>\n      <td>20</td>\n    </tr>\n    <tr>\n      <th>8</th>\n      <td>VACCINATIONS</td>\n      <td>3</td>\n      <td>Lyme</td>\n      <td>15</td>\n    </tr>\n    <tr>\n      <th>9</th>\n      <td>VACCINATIONS</td>\n      <td>4</td>\n      <td>PCR</td>\n      <td>15</td>\n    </tr>\n  </tbody>\n</table>\n</div>"
     },
     "metadata": {},
     "execution_count": 10
    }
   ],
   "source": [
    "procedure_details.head(10)"
   ]
  },
  {
   "cell_type": "code",
   "execution_count": 11,
   "metadata": {},
   "outputs": [
    {
     "output_type": "execute_result",
     "data": {
      "text/plain": [
       "     PetID   Date ProcedureType  ProcedureSubCode\n",
       "0  T0-3277  42391  VACCINATIONS                 5\n",
       "1  G6-6501  42398  VACCINATIONS                 5\n",
       "2  P9-3625  42399    ORTHOPEDIC                 7\n",
       "3  F1-1855  42402  VACCINATIONS                 5\n",
       "4  S1-2243  42404  VACCINATIONS                 5\n",
       "5  L8-0046  42405  VACCINATIONS                 5\n",
       "6  L4-6292  42405  VACCINATIONS                 5\n",
       "7  X0-8765  42447  VACCINATIONS                 5\n",
       "8  J8-7429  42494  VACCINATIONS                 5\n",
       "9  J8-7429  42498  VACCINATIONS                 5"
      ],
      "text/html": "<div>\n<style scoped>\n    .dataframe tbody tr th:only-of-type {\n        vertical-align: middle;\n    }\n\n    .dataframe tbody tr th {\n        vertical-align: top;\n    }\n\n    .dataframe thead th {\n        text-align: right;\n    }\n</style>\n<table border=\"1\" class=\"dataframe\">\n  <thead>\n    <tr style=\"text-align: right;\">\n      <th></th>\n      <th>PetID</th>\n      <th>Date</th>\n      <th>ProcedureType</th>\n      <th>ProcedureSubCode</th>\n    </tr>\n  </thead>\n  <tbody>\n    <tr>\n      <th>0</th>\n      <td>T0-3277</td>\n      <td>42391</td>\n      <td>VACCINATIONS</td>\n      <td>5</td>\n    </tr>\n    <tr>\n      <th>1</th>\n      <td>G6-6501</td>\n      <td>42398</td>\n      <td>VACCINATIONS</td>\n      <td>5</td>\n    </tr>\n    <tr>\n      <th>2</th>\n      <td>P9-3625</td>\n      <td>42399</td>\n      <td>ORTHOPEDIC</td>\n      <td>7</td>\n    </tr>\n    <tr>\n      <th>3</th>\n      <td>F1-1855</td>\n      <td>42402</td>\n      <td>VACCINATIONS</td>\n      <td>5</td>\n    </tr>\n    <tr>\n      <th>4</th>\n      <td>S1-2243</td>\n      <td>42404</td>\n      <td>VACCINATIONS</td>\n      <td>5</td>\n    </tr>\n    <tr>\n      <th>5</th>\n      <td>L8-0046</td>\n      <td>42405</td>\n      <td>VACCINATIONS</td>\n      <td>5</td>\n    </tr>\n    <tr>\n      <th>6</th>\n      <td>L4-6292</td>\n      <td>42405</td>\n      <td>VACCINATIONS</td>\n      <td>5</td>\n    </tr>\n    <tr>\n      <th>7</th>\n      <td>X0-8765</td>\n      <td>42447</td>\n      <td>VACCINATIONS</td>\n      <td>5</td>\n    </tr>\n    <tr>\n      <th>8</th>\n      <td>J8-7429</td>\n      <td>42494</td>\n      <td>VACCINATIONS</td>\n      <td>5</td>\n    </tr>\n    <tr>\n      <th>9</th>\n      <td>J8-7429</td>\n      <td>42498</td>\n      <td>VACCINATIONS</td>\n      <td>5</td>\n    </tr>\n  </tbody>\n</table>\n</div>"
     },
     "metadata": {},
     "execution_count": 11
    }
   ],
   "source": [
    "procedures.head(10)"
   ]
  },
  {
   "cell_type": "code",
   "execution_count": 17,
   "metadata": {},
   "outputs": [
    {
     "output_type": "execute_result",
     "data": {
      "text/plain": [
       "PetID      57\n",
       "Name       57\n",
       "Kind       57\n",
       "Gender     57\n",
       "Age        57\n",
       "OwnerID    57\n",
       "dtype: int64"
      ]
     },
     "metadata": {},
     "execution_count": 17
    }
   ],
   "source": [
    "# number of dogs in dataset\n",
    "pets[pets['Kind']=='Dog'].count()"
   ]
  },
  {
   "cell_type": "code",
   "execution_count": 33,
   "metadata": {},
   "outputs": [
    {
     "output_type": "execute_result",
     "data": {
      "text/plain": [
       "      PetID_x    Name_x    Kind  Gender  Age  OwnerID  Date_x  \\\n",
       "0     J6-8562    Brandy     Dog    male   11     5168   42603   \n",
       "1     J6-8562    Brandy     Dog    male   11     5168   42603   \n",
       "2     J6-8562    Brandy     Dog    male   11     5168   42603   \n",
       "3     J6-8562    Brandy     Dog    male   11     5168   42603   \n",
       "4     X0-8765   Vuitton  Parrot  female   11     7581   42646   \n",
       "...       ...       ...     ...     ...  ...      ...     ...   \n",
       "2807  Q2-3642  Thatcher  Parrot  female    8     8143   42642   \n",
       "2808  Q2-3642  Thatcher  Parrot  female    8     8143   42642   \n",
       "2809  J1-6366     Bruce     Dog    male    3     8316   42665   \n",
       "2810  P9-3625   Cuddles     Dog    male   14     7579   42399   \n",
       "2811  P9-3625   Cuddles     Dog    male   14     7579   42399   \n",
       "\n",
       "        ProcedureType_x  ProcedureSubCode  PetID_y  ...      ProcedureType  \\\n",
       "0     GENERAL SURGERIES                 8  J6-8562  ...         ORTHOPEDIC   \n",
       "1     GENERAL SURGERIES                 8  J6-8562  ...  GENERAL SURGERIES   \n",
       "2     GENERAL SURGERIES                 8  X0-8765  ...         ORTHOPEDIC   \n",
       "3     GENERAL SURGERIES                 8  X0-8765  ...  GENERAL SURGERIES   \n",
       "4     GENERAL SURGERIES                 8  J6-8562  ...         ORTHOPEDIC   \n",
       "...                 ...               ...      ...  ...                ...   \n",
       "2807         ORTHOPEDIC                 9  Q2-3642  ...         ORTHOPEDIC   \n",
       "2808         ORTHOPEDIC                 9  Q2-3642  ...  GENERAL SURGERIES   \n",
       "2809  GENERAL SURGERIES                17  J1-6366  ...  GENERAL SURGERIES   \n",
       "2810         ORTHOPEDIC                 7  P9-3625  ...         ORTHOPEDIC   \n",
       "2811         ORTHOPEDIC                 7  P9-3625  ...  GENERAL SURGERIES   \n",
       "\n",
       "             Description Price    Name_y   Surname        StreetAddress  \\\n",
       "0            Pin Removal    68    Robert    Foster   4680 Rubaiyat Road   \n",
       "1              Umbilical   175    Robert    Foster   4680 Rubaiyat Road   \n",
       "2            Pin Removal    68    Robert    Foster   4680 Rubaiyat Road   \n",
       "3              Umbilical   175    Robert    Foster   4680 Rubaiyat Road   \n",
       "4            Pin Removal    68  Florence     Nolen   3103 Howard Street   \n",
       "...                  ...   ...       ...       ...                  ...   \n",
       "2807        Cast Removal    40    Jackie  Hatmaker      949 John Avenue   \n",
       "2808            Perineal   375    Jackie  Hatmaker      949 John Avenue   \n",
       "2809  Radical Mastectomy   450    Daniel       Fay  894 Twin Oaks Drive   \n",
       "2810        Pinning-I.M.   325   Ricardo  Peterson   4963 Mahlon Street   \n",
       "2811              Hernia   390   Ricardo  Peterson   4963 Mahlon Street   \n",
       "\n",
       "              City State StateFull ZipCode  \n",
       "0     Grand Rapids    MI  Michigan   49503  \n",
       "1     Grand Rapids    MI  Michigan   49503  \n",
       "2     Grand Rapids    MI  Michigan   49503  \n",
       "3     Grand Rapids    MI  Michigan   49503  \n",
       "4     Grand Rapids    MI  Michigan   49503  \n",
       "...            ...   ...       ...     ...  \n",
       "2807  East Lansing    MI  Michigan   48823  \n",
       "2808  East Lansing    MI  Michigan   48823  \n",
       "2809  Grand Rapids    MI  Michigan   49503  \n",
       "2810     Ann Arbor    MI  Michigan   48104  \n",
       "2811     Ann Arbor    MI  Michigan   48104  \n",
       "\n",
       "[2812 rows x 22 columns]"
      ],
      "text/html": "<div>\n<style scoped>\n    .dataframe tbody tr th:only-of-type {\n        vertical-align: middle;\n    }\n\n    .dataframe tbody tr th {\n        vertical-align: top;\n    }\n\n    .dataframe thead th {\n        text-align: right;\n    }\n</style>\n<table border=\"1\" class=\"dataframe\">\n  <thead>\n    <tr style=\"text-align: right;\">\n      <th></th>\n      <th>PetID_x</th>\n      <th>Name_x</th>\n      <th>Kind</th>\n      <th>Gender</th>\n      <th>Age</th>\n      <th>OwnerID</th>\n      <th>Date_x</th>\n      <th>ProcedureType_x</th>\n      <th>ProcedureSubCode</th>\n      <th>PetID_y</th>\n      <th>...</th>\n      <th>ProcedureType</th>\n      <th>Description</th>\n      <th>Price</th>\n      <th>Name_y</th>\n      <th>Surname</th>\n      <th>StreetAddress</th>\n      <th>City</th>\n      <th>State</th>\n      <th>StateFull</th>\n      <th>ZipCode</th>\n    </tr>\n  </thead>\n  <tbody>\n    <tr>\n      <th>0</th>\n      <td>J6-8562</td>\n      <td>Brandy</td>\n      <td>Dog</td>\n      <td>male</td>\n      <td>11</td>\n      <td>5168</td>\n      <td>42603</td>\n      <td>GENERAL SURGERIES</td>\n      <td>8</td>\n      <td>J6-8562</td>\n      <td>...</td>\n      <td>ORTHOPEDIC</td>\n      <td>Pin Removal</td>\n      <td>68</td>\n      <td>Robert</td>\n      <td>Foster</td>\n      <td>4680 Rubaiyat Road</td>\n      <td>Grand Rapids</td>\n      <td>MI</td>\n      <td>Michigan</td>\n      <td>49503</td>\n    </tr>\n    <tr>\n      <th>1</th>\n      <td>J6-8562</td>\n      <td>Brandy</td>\n      <td>Dog</td>\n      <td>male</td>\n      <td>11</td>\n      <td>5168</td>\n      <td>42603</td>\n      <td>GENERAL SURGERIES</td>\n      <td>8</td>\n      <td>J6-8562</td>\n      <td>...</td>\n      <td>GENERAL SURGERIES</td>\n      <td>Umbilical</td>\n      <td>175</td>\n      <td>Robert</td>\n      <td>Foster</td>\n      <td>4680 Rubaiyat Road</td>\n      <td>Grand Rapids</td>\n      <td>MI</td>\n      <td>Michigan</td>\n      <td>49503</td>\n    </tr>\n    <tr>\n      <th>2</th>\n      <td>J6-8562</td>\n      <td>Brandy</td>\n      <td>Dog</td>\n      <td>male</td>\n      <td>11</td>\n      <td>5168</td>\n      <td>42603</td>\n      <td>GENERAL SURGERIES</td>\n      <td>8</td>\n      <td>X0-8765</td>\n      <td>...</td>\n      <td>ORTHOPEDIC</td>\n      <td>Pin Removal</td>\n      <td>68</td>\n      <td>Robert</td>\n      <td>Foster</td>\n      <td>4680 Rubaiyat Road</td>\n      <td>Grand Rapids</td>\n      <td>MI</td>\n      <td>Michigan</td>\n      <td>49503</td>\n    </tr>\n    <tr>\n      <th>3</th>\n      <td>J6-8562</td>\n      <td>Brandy</td>\n      <td>Dog</td>\n      <td>male</td>\n      <td>11</td>\n      <td>5168</td>\n      <td>42603</td>\n      <td>GENERAL SURGERIES</td>\n      <td>8</td>\n      <td>X0-8765</td>\n      <td>...</td>\n      <td>GENERAL SURGERIES</td>\n      <td>Umbilical</td>\n      <td>175</td>\n      <td>Robert</td>\n      <td>Foster</td>\n      <td>4680 Rubaiyat Road</td>\n      <td>Grand Rapids</td>\n      <td>MI</td>\n      <td>Michigan</td>\n      <td>49503</td>\n    </tr>\n    <tr>\n      <th>4</th>\n      <td>X0-8765</td>\n      <td>Vuitton</td>\n      <td>Parrot</td>\n      <td>female</td>\n      <td>11</td>\n      <td>7581</td>\n      <td>42646</td>\n      <td>GENERAL SURGERIES</td>\n      <td>8</td>\n      <td>J6-8562</td>\n      <td>...</td>\n      <td>ORTHOPEDIC</td>\n      <td>Pin Removal</td>\n      <td>68</td>\n      <td>Florence</td>\n      <td>Nolen</td>\n      <td>3103 Howard Street</td>\n      <td>Grand Rapids</td>\n      <td>MI</td>\n      <td>Michigan</td>\n      <td>49503</td>\n    </tr>\n    <tr>\n      <th>...</th>\n      <td>...</td>\n      <td>...</td>\n      <td>...</td>\n      <td>...</td>\n      <td>...</td>\n      <td>...</td>\n      <td>...</td>\n      <td>...</td>\n      <td>...</td>\n      <td>...</td>\n      <td>...</td>\n      <td>...</td>\n      <td>...</td>\n      <td>...</td>\n      <td>...</td>\n      <td>...</td>\n      <td>...</td>\n      <td>...</td>\n      <td>...</td>\n      <td>...</td>\n      <td>...</td>\n    </tr>\n    <tr>\n      <th>2807</th>\n      <td>Q2-3642</td>\n      <td>Thatcher</td>\n      <td>Parrot</td>\n      <td>female</td>\n      <td>8</td>\n      <td>8143</td>\n      <td>42642</td>\n      <td>ORTHOPEDIC</td>\n      <td>9</td>\n      <td>Q2-3642</td>\n      <td>...</td>\n      <td>ORTHOPEDIC</td>\n      <td>Cast Removal</td>\n      <td>40</td>\n      <td>Jackie</td>\n      <td>Hatmaker</td>\n      <td>949 John Avenue</td>\n      <td>East Lansing</td>\n      <td>MI</td>\n      <td>Michigan</td>\n      <td>48823</td>\n    </tr>\n    <tr>\n      <th>2808</th>\n      <td>Q2-3642</td>\n      <td>Thatcher</td>\n      <td>Parrot</td>\n      <td>female</td>\n      <td>8</td>\n      <td>8143</td>\n      <td>42642</td>\n      <td>ORTHOPEDIC</td>\n      <td>9</td>\n      <td>Q2-3642</td>\n      <td>...</td>\n      <td>GENERAL SURGERIES</td>\n      <td>Perineal</td>\n      <td>375</td>\n      <td>Jackie</td>\n      <td>Hatmaker</td>\n      <td>949 John Avenue</td>\n      <td>East Lansing</td>\n      <td>MI</td>\n      <td>Michigan</td>\n      <td>48823</td>\n    </tr>\n    <tr>\n      <th>2809</th>\n      <td>J1-6366</td>\n      <td>Bruce</td>\n      <td>Dog</td>\n      <td>male</td>\n      <td>3</td>\n      <td>8316</td>\n      <td>42665</td>\n      <td>GENERAL SURGERIES</td>\n      <td>17</td>\n      <td>J1-6366</td>\n      <td>...</td>\n      <td>GENERAL SURGERIES</td>\n      <td>Radical Mastectomy</td>\n      <td>450</td>\n      <td>Daniel</td>\n      <td>Fay</td>\n      <td>894 Twin Oaks Drive</td>\n      <td>Grand Rapids</td>\n      <td>MI</td>\n      <td>Michigan</td>\n      <td>49503</td>\n    </tr>\n    <tr>\n      <th>2810</th>\n      <td>P9-3625</td>\n      <td>Cuddles</td>\n      <td>Dog</td>\n      <td>male</td>\n      <td>14</td>\n      <td>7579</td>\n      <td>42399</td>\n      <td>ORTHOPEDIC</td>\n      <td>7</td>\n      <td>P9-3625</td>\n      <td>...</td>\n      <td>ORTHOPEDIC</td>\n      <td>Pinning-I.M.</td>\n      <td>325</td>\n      <td>Ricardo</td>\n      <td>Peterson</td>\n      <td>4963 Mahlon Street</td>\n      <td>Ann Arbor</td>\n      <td>MI</td>\n      <td>Michigan</td>\n      <td>48104</td>\n    </tr>\n    <tr>\n      <th>2811</th>\n      <td>P9-3625</td>\n      <td>Cuddles</td>\n      <td>Dog</td>\n      <td>male</td>\n      <td>14</td>\n      <td>7579</td>\n      <td>42399</td>\n      <td>ORTHOPEDIC</td>\n      <td>7</td>\n      <td>P9-3625</td>\n      <td>...</td>\n      <td>GENERAL SURGERIES</td>\n      <td>Hernia</td>\n      <td>390</td>\n      <td>Ricardo</td>\n      <td>Peterson</td>\n      <td>4963 Mahlon Street</td>\n      <td>Ann Arbor</td>\n      <td>MI</td>\n      <td>Michigan</td>\n      <td>48104</td>\n    </tr>\n  </tbody>\n</table>\n<p>2812 rows × 22 columns</p>\n</div>"
     },
     "metadata": {},
     "execution_count": 33
    }
   ],
   "source": [
    "merge_1=pets.merge(procedures,left_on='PetID',right_on='PetID')\n",
    "merge_2=merge_1.merge(procedures,left_on='ProcedureSubCode',right_on='ProcedureSubCode')\n",
    "final_merge=merge_2.merge(procedure_details,left_on='ProcedureSubCode',right_on='ProcedureSubCode')\n",
    "final_merge=final_merge.merge(owners,left_on='OwnerID',right_on='OwnerID')\n",
    "final_merge"
   ]
  },
  {
   "cell_type": "code",
   "execution_count": 73,
   "metadata": {},
   "outputs": [
    {
     "output_type": "execute_result",
     "data": {
      "text/plain": [
       "     PetID_x  Name_x Kind Gender  Age  OwnerID  Date_x ProcedureType_x  \\\n",
       "638  L4-6292  Bright  Dog   male   13     3089   42405    VACCINATIONS   \n",
       "639  L4-6292  Bright  Dog   male   13     3089   42405    VACCINATIONS   \n",
       "640  L4-6292  Bright  Dog   male   13     3089   42405    VACCINATIONS   \n",
       "641  L4-6292  Bright  Dog   male   13     3089   42405    VACCINATIONS   \n",
       "642  L4-6292  Bright  Dog   male   13     3089   42405    VACCINATIONS   \n",
       "..       ...     ...  ...    ...  ...      ...     ...             ...   \n",
       "993  G6-6501    Jake  Cat   male    2     3089   42581    VACCINATIONS   \n",
       "994  G6-6501    Jake  Cat   male    2     3089   42581    VACCINATIONS   \n",
       "995  G6-6501    Jake  Cat   male    2     3089   42581    VACCINATIONS   \n",
       "996  G6-6501    Jake  Cat   male    2     3089   42581    VACCINATIONS   \n",
       "997  G6-6501    Jake  Cat   male    2     3089   42581    VACCINATIONS   \n",
       "\n",
       "     ProcedureSubCode  PetID_y  ...      ProcedureType        Description  \\\n",
       "638                 5  T0-3277  ...       VACCINATIONS             Rabies   \n",
       "639                 5  T0-3277  ...         ORTHOPEDIC  Lx Patella Repair   \n",
       "640                 5  T0-3277  ...  GENERAL SURGERIES           Ear Crop   \n",
       "641                 5  G6-6501  ...       VACCINATIONS             Rabies   \n",
       "642                 5  G6-6501  ...         ORTHOPEDIC  Lx Patella Repair   \n",
       "..                ...      ...  ...                ...                ...   \n",
       "993                 5  H2-8586  ...         ORTHOPEDIC  Lx Patella Repair   \n",
       "994                 5  H2-8586  ...  GENERAL SURGERIES           Ear Crop   \n",
       "995                 5  L4-6292  ...       VACCINATIONS             Rabies   \n",
       "996                 5  L4-6292  ...         ORTHOPEDIC  Lx Patella Repair   \n",
       "997                 5  L4-6292  ...  GENERAL SURGERIES           Ear Crop   \n",
       "\n",
       "    Price Name_y   Surname         StreetAddress       City State StateFull  \\\n",
       "638    10    Lee  McKenzie  3295 Pinewood Avenue  Marquette    MI  Michigan   \n",
       "639   305    Lee  McKenzie  3295 Pinewood Avenue  Marquette    MI  Michigan   \n",
       "640   350    Lee  McKenzie  3295 Pinewood Avenue  Marquette    MI  Michigan   \n",
       "641    10    Lee  McKenzie  3295 Pinewood Avenue  Marquette    MI  Michigan   \n",
       "642   305    Lee  McKenzie  3295 Pinewood Avenue  Marquette    MI  Michigan   \n",
       "..    ...    ...       ...                   ...        ...   ...       ...   \n",
       "993   305    Lee  McKenzie  3295 Pinewood Avenue  Marquette    MI  Michigan   \n",
       "994   350    Lee  McKenzie  3295 Pinewood Avenue  Marquette    MI  Michigan   \n",
       "995    10    Lee  McKenzie  3295 Pinewood Avenue  Marquette    MI  Michigan   \n",
       "996   305    Lee  McKenzie  3295 Pinewood Avenue  Marquette    MI  Michigan   \n",
       "997   350    Lee  McKenzie  3295 Pinewood Avenue  Marquette    MI  Michigan   \n",
       "\n",
       "    ZipCode  \n",
       "638   49855  \n",
       "639   49855  \n",
       "640   49855  \n",
       "641   49855  \n",
       "642   49855  \n",
       "..      ...  \n",
       "993   49855  \n",
       "994   49855  \n",
       "995   49855  \n",
       "996   49855  \n",
       "997   49855  \n",
       "\n",
       "[360 rows x 22 columns]"
      ],
      "text/html": "<div>\n<style scoped>\n    .dataframe tbody tr th:only-of-type {\n        vertical-align: middle;\n    }\n\n    .dataframe tbody tr th {\n        vertical-align: top;\n    }\n\n    .dataframe thead th {\n        text-align: right;\n    }\n</style>\n<table border=\"1\" class=\"dataframe\">\n  <thead>\n    <tr style=\"text-align: right;\">\n      <th></th>\n      <th>PetID_x</th>\n      <th>Name_x</th>\n      <th>Kind</th>\n      <th>Gender</th>\n      <th>Age</th>\n      <th>OwnerID</th>\n      <th>Date_x</th>\n      <th>ProcedureType_x</th>\n      <th>ProcedureSubCode</th>\n      <th>PetID_y</th>\n      <th>...</th>\n      <th>ProcedureType</th>\n      <th>Description</th>\n      <th>Price</th>\n      <th>Name_y</th>\n      <th>Surname</th>\n      <th>StreetAddress</th>\n      <th>City</th>\n      <th>State</th>\n      <th>StateFull</th>\n      <th>ZipCode</th>\n    </tr>\n  </thead>\n  <tbody>\n    <tr>\n      <th>638</th>\n      <td>L4-6292</td>\n      <td>Bright</td>\n      <td>Dog</td>\n      <td>male</td>\n      <td>13</td>\n      <td>3089</td>\n      <td>42405</td>\n      <td>VACCINATIONS</td>\n      <td>5</td>\n      <td>T0-3277</td>\n      <td>...</td>\n      <td>VACCINATIONS</td>\n      <td>Rabies</td>\n      <td>10</td>\n      <td>Lee</td>\n      <td>McKenzie</td>\n      <td>3295 Pinewood Avenue</td>\n      <td>Marquette</td>\n      <td>MI</td>\n      <td>Michigan</td>\n      <td>49855</td>\n    </tr>\n    <tr>\n      <th>639</th>\n      <td>L4-6292</td>\n      <td>Bright</td>\n      <td>Dog</td>\n      <td>male</td>\n      <td>13</td>\n      <td>3089</td>\n      <td>42405</td>\n      <td>VACCINATIONS</td>\n      <td>5</td>\n      <td>T0-3277</td>\n      <td>...</td>\n      <td>ORTHOPEDIC</td>\n      <td>Lx Patella Repair</td>\n      <td>305</td>\n      <td>Lee</td>\n      <td>McKenzie</td>\n      <td>3295 Pinewood Avenue</td>\n      <td>Marquette</td>\n      <td>MI</td>\n      <td>Michigan</td>\n      <td>49855</td>\n    </tr>\n    <tr>\n      <th>640</th>\n      <td>L4-6292</td>\n      <td>Bright</td>\n      <td>Dog</td>\n      <td>male</td>\n      <td>13</td>\n      <td>3089</td>\n      <td>42405</td>\n      <td>VACCINATIONS</td>\n      <td>5</td>\n      <td>T0-3277</td>\n      <td>...</td>\n      <td>GENERAL SURGERIES</td>\n      <td>Ear Crop</td>\n      <td>350</td>\n      <td>Lee</td>\n      <td>McKenzie</td>\n      <td>3295 Pinewood Avenue</td>\n      <td>Marquette</td>\n      <td>MI</td>\n      <td>Michigan</td>\n      <td>49855</td>\n    </tr>\n    <tr>\n      <th>641</th>\n      <td>L4-6292</td>\n      <td>Bright</td>\n      <td>Dog</td>\n      <td>male</td>\n      <td>13</td>\n      <td>3089</td>\n      <td>42405</td>\n      <td>VACCINATIONS</td>\n      <td>5</td>\n      <td>G6-6501</td>\n      <td>...</td>\n      <td>VACCINATIONS</td>\n      <td>Rabies</td>\n      <td>10</td>\n      <td>Lee</td>\n      <td>McKenzie</td>\n      <td>3295 Pinewood Avenue</td>\n      <td>Marquette</td>\n      <td>MI</td>\n      <td>Michigan</td>\n      <td>49855</td>\n    </tr>\n    <tr>\n      <th>642</th>\n      <td>L4-6292</td>\n      <td>Bright</td>\n      <td>Dog</td>\n      <td>male</td>\n      <td>13</td>\n      <td>3089</td>\n      <td>42405</td>\n      <td>VACCINATIONS</td>\n      <td>5</td>\n      <td>G6-6501</td>\n      <td>...</td>\n      <td>ORTHOPEDIC</td>\n      <td>Lx Patella Repair</td>\n      <td>305</td>\n      <td>Lee</td>\n      <td>McKenzie</td>\n      <td>3295 Pinewood Avenue</td>\n      <td>Marquette</td>\n      <td>MI</td>\n      <td>Michigan</td>\n      <td>49855</td>\n    </tr>\n    <tr>\n      <th>...</th>\n      <td>...</td>\n      <td>...</td>\n      <td>...</td>\n      <td>...</td>\n      <td>...</td>\n      <td>...</td>\n      <td>...</td>\n      <td>...</td>\n      <td>...</td>\n      <td>...</td>\n      <td>...</td>\n      <td>...</td>\n      <td>...</td>\n      <td>...</td>\n      <td>...</td>\n      <td>...</td>\n      <td>...</td>\n      <td>...</td>\n      <td>...</td>\n      <td>...</td>\n      <td>...</td>\n    </tr>\n    <tr>\n      <th>993</th>\n      <td>G6-6501</td>\n      <td>Jake</td>\n      <td>Cat</td>\n      <td>male</td>\n      <td>2</td>\n      <td>3089</td>\n      <td>42581</td>\n      <td>VACCINATIONS</td>\n      <td>5</td>\n      <td>H2-8586</td>\n      <td>...</td>\n      <td>ORTHOPEDIC</td>\n      <td>Lx Patella Repair</td>\n      <td>305</td>\n      <td>Lee</td>\n      <td>McKenzie</td>\n      <td>3295 Pinewood Avenue</td>\n      <td>Marquette</td>\n      <td>MI</td>\n      <td>Michigan</td>\n      <td>49855</td>\n    </tr>\n    <tr>\n      <th>994</th>\n      <td>G6-6501</td>\n      <td>Jake</td>\n      <td>Cat</td>\n      <td>male</td>\n      <td>2</td>\n      <td>3089</td>\n      <td>42581</td>\n      <td>VACCINATIONS</td>\n      <td>5</td>\n      <td>H2-8586</td>\n      <td>...</td>\n      <td>GENERAL SURGERIES</td>\n      <td>Ear Crop</td>\n      <td>350</td>\n      <td>Lee</td>\n      <td>McKenzie</td>\n      <td>3295 Pinewood Avenue</td>\n      <td>Marquette</td>\n      <td>MI</td>\n      <td>Michigan</td>\n      <td>49855</td>\n    </tr>\n    <tr>\n      <th>995</th>\n      <td>G6-6501</td>\n      <td>Jake</td>\n      <td>Cat</td>\n      <td>male</td>\n      <td>2</td>\n      <td>3089</td>\n      <td>42581</td>\n      <td>VACCINATIONS</td>\n      <td>5</td>\n      <td>L4-6292</td>\n      <td>...</td>\n      <td>VACCINATIONS</td>\n      <td>Rabies</td>\n      <td>10</td>\n      <td>Lee</td>\n      <td>McKenzie</td>\n      <td>3295 Pinewood Avenue</td>\n      <td>Marquette</td>\n      <td>MI</td>\n      <td>Michigan</td>\n      <td>49855</td>\n    </tr>\n    <tr>\n      <th>996</th>\n      <td>G6-6501</td>\n      <td>Jake</td>\n      <td>Cat</td>\n      <td>male</td>\n      <td>2</td>\n      <td>3089</td>\n      <td>42581</td>\n      <td>VACCINATIONS</td>\n      <td>5</td>\n      <td>L4-6292</td>\n      <td>...</td>\n      <td>ORTHOPEDIC</td>\n      <td>Lx Patella Repair</td>\n      <td>305</td>\n      <td>Lee</td>\n      <td>McKenzie</td>\n      <td>3295 Pinewood Avenue</td>\n      <td>Marquette</td>\n      <td>MI</td>\n      <td>Michigan</td>\n      <td>49855</td>\n    </tr>\n    <tr>\n      <th>997</th>\n      <td>G6-6501</td>\n      <td>Jake</td>\n      <td>Cat</td>\n      <td>male</td>\n      <td>2</td>\n      <td>3089</td>\n      <td>42581</td>\n      <td>VACCINATIONS</td>\n      <td>5</td>\n      <td>L4-6292</td>\n      <td>...</td>\n      <td>GENERAL SURGERIES</td>\n      <td>Ear Crop</td>\n      <td>350</td>\n      <td>Lee</td>\n      <td>McKenzie</td>\n      <td>3295 Pinewood Avenue</td>\n      <td>Marquette</td>\n      <td>MI</td>\n      <td>Michigan</td>\n      <td>49855</td>\n    </tr>\n  </tbody>\n</table>\n<p>360 rows × 22 columns</p>\n</div>"
     },
     "metadata": {},
     "execution_count": 73
    }
   ],
   "source": [
    "# get the person who spent the most on pet\n",
    "final_merge[final_merge['OwnerID']==final_merge.groupby('OwnerID').sum()[\"Price\"].sort_values(ascending=False).index[0]]"
   ]
  },
  {
   "cell_type": "code",
   "execution_count": 88,
   "metadata": {},
   "outputs": [
    {
     "output_type": "execute_result",
     "data": {
      "text/plain": [
       "33"
      ]
     },
     "metadata": {},
     "execution_count": 88
    }
   ],
   "source": [
    "# number of owners who spent more than equal to 10 dollars on pets\n",
    "final=final_merge.groupby('OwnerID').sum()\n",
    "(final['Price']>=10).count()"
   ]
  },
  {
   "cell_type": "code",
   "execution_count": 109,
   "metadata": {},
   "outputs": [
    {
     "output_type": "execute_result",
     "data": {
      "text/plain": [
       "City\n",
       "Southfield          288\n",
       "Marquette           270\n",
       "Pontiac             270\n",
       "Grand Rapids        203\n",
       "Center Line          90\n",
       "Commerce             90\n",
       "Lansing              90\n",
       "Plymouth             90\n",
       "Saint Charles        90\n",
       "Farmington Hills     15\n",
       "Kalamazoo            15\n",
       "Ann Arbor             2\n",
       "Name: ZipCode, dtype: int64"
      ]
     },
     "metadata": {},
     "execution_count": 109
    }
   ],
   "source": [
    "City with most number of dogs\n",
    "final_merge[final_merge['Kind']=='Dog'].groupby('City').count()['ZipCode'].sort_values(ascending=False)"
   ]
  },
  {
   "cell_type": "code",
   "execution_count": 132,
   "metadata": {},
   "outputs": [
    {
     "output_type": "execute_result",
     "data": {
      "text/plain": [
       "      PetID_x Name_x Kind Gender  Age  OwnerID  Date_x ProcedureType_x  \\\n",
       "1358  M2-1131  Rumba  Cat   male    8     1915   42705      ORTHOPEDIC   \n",
       "1359  M2-1131  Rumba  Cat   male    8     1915   42705      ORTHOPEDIC   \n",
       "1360  M2-1131  Rumba  Cat   male    8     1915   42705      ORTHOPEDIC   \n",
       "1361  M2-1131  Rumba  Cat   male    8     1915   42705      ORTHOPEDIC   \n",
       "1362  M2-1131  Rumba  Cat   male    8     1915   42705      ORTHOPEDIC   \n",
       "...       ...    ...  ...    ...  ...      ...     ...             ...   \n",
       "1443  M2-1131  Rumba  Cat   male    8     1915   42705      ORTHOPEDIC   \n",
       "1444  M2-1131  Rumba  Cat   male    8     1915   42705      ORTHOPEDIC   \n",
       "1445  M2-1131  Rumba  Cat   male    8     1915   42705      ORTHOPEDIC   \n",
       "1446  M2-1131  Rumba  Cat   male    8     1915   42705      ORTHOPEDIC   \n",
       "1447  M2-1131  Rumba  Cat   male    8     1915   42705      ORTHOPEDIC   \n",
       "\n",
       "      ProcedureSubCode  PetID_y  ...      ProcedureType        Description  \\\n",
       "1358                 5  T0-3277  ...       VACCINATIONS             Rabies   \n",
       "1359                 5  T0-3277  ...         ORTHOPEDIC  Lx Patella Repair   \n",
       "1360                 5  T0-3277  ...  GENERAL SURGERIES           Ear Crop   \n",
       "1361                 5  G6-6501  ...       VACCINATIONS             Rabies   \n",
       "1362                 5  G6-6501  ...         ORTHOPEDIC  Lx Patella Repair   \n",
       "...                ...      ...  ...                ...                ...   \n",
       "1443                 5  H2-8586  ...         ORTHOPEDIC  Lx Patella Repair   \n",
       "1444                 5  H2-8586  ...  GENERAL SURGERIES           Ear Crop   \n",
       "1445                 5  L4-6292  ...       VACCINATIONS             Rabies   \n",
       "1446                 5  L4-6292  ...         ORTHOPEDIC  Lx Patella Repair   \n",
       "1447                 5  L4-6292  ...  GENERAL SURGERIES           Ear Crop   \n",
       "\n",
       "     Price       Name_y  Surname         StreetAddress     City State  \\\n",
       "1358    10  Christopher   Bowers  3575 Woodbridge Lane  Detroit    MI   \n",
       "1359   305  Christopher   Bowers  3575 Woodbridge Lane  Detroit    MI   \n",
       "1360   350  Christopher   Bowers  3575 Woodbridge Lane  Detroit    MI   \n",
       "1361    10  Christopher   Bowers  3575 Woodbridge Lane  Detroit    MI   \n",
       "1362   305  Christopher   Bowers  3575 Woodbridge Lane  Detroit    MI   \n",
       "...    ...          ...      ...                   ...      ...   ...   \n",
       "1443   305  Christopher   Bowers  3575 Woodbridge Lane  Detroit    MI   \n",
       "1444   350  Christopher   Bowers  3575 Woodbridge Lane  Detroit    MI   \n",
       "1445    10  Christopher   Bowers  3575 Woodbridge Lane  Detroit    MI   \n",
       "1446   305  Christopher   Bowers  3575 Woodbridge Lane  Detroit    MI   \n",
       "1447   350  Christopher   Bowers  3575 Woodbridge Lane  Detroit    MI   \n",
       "\n",
       "     StateFull ZipCode  \n",
       "1358  Michigan   48226  \n",
       "1359  Michigan   48226  \n",
       "1360  Michigan   48226  \n",
       "1361  Michigan   48226  \n",
       "1362  Michigan   48226  \n",
       "...        ...     ...  \n",
       "1443  Michigan   48226  \n",
       "1444  Michigan   48226  \n",
       "1445  Michigan   48226  \n",
       "1446  Michigan   48226  \n",
       "1447  Michigan   48226  \n",
       "\n",
       "[90 rows x 22 columns]"
      ],
      "text/html": "<div>\n<style scoped>\n    .dataframe tbody tr th:only-of-type {\n        vertical-align: middle;\n    }\n\n    .dataframe tbody tr th {\n        vertical-align: top;\n    }\n\n    .dataframe thead th {\n        text-align: right;\n    }\n</style>\n<table border=\"1\" class=\"dataframe\">\n  <thead>\n    <tr style=\"text-align: right;\">\n      <th></th>\n      <th>PetID_x</th>\n      <th>Name_x</th>\n      <th>Kind</th>\n      <th>Gender</th>\n      <th>Age</th>\n      <th>OwnerID</th>\n      <th>Date_x</th>\n      <th>ProcedureType_x</th>\n      <th>ProcedureSubCode</th>\n      <th>PetID_y</th>\n      <th>...</th>\n      <th>ProcedureType</th>\n      <th>Description</th>\n      <th>Price</th>\n      <th>Name_y</th>\n      <th>Surname</th>\n      <th>StreetAddress</th>\n      <th>City</th>\n      <th>State</th>\n      <th>StateFull</th>\n      <th>ZipCode</th>\n    </tr>\n  </thead>\n  <tbody>\n    <tr>\n      <th>1358</th>\n      <td>M2-1131</td>\n      <td>Rumba</td>\n      <td>Cat</td>\n      <td>male</td>\n      <td>8</td>\n      <td>1915</td>\n      <td>42705</td>\n      <td>ORTHOPEDIC</td>\n      <td>5</td>\n      <td>T0-3277</td>\n      <td>...</td>\n      <td>VACCINATIONS</td>\n      <td>Rabies</td>\n      <td>10</td>\n      <td>Christopher</td>\n      <td>Bowers</td>\n      <td>3575 Woodbridge Lane</td>\n      <td>Detroit</td>\n      <td>MI</td>\n      <td>Michigan</td>\n      <td>48226</td>\n    </tr>\n    <tr>\n      <th>1359</th>\n      <td>M2-1131</td>\n      <td>Rumba</td>\n      <td>Cat</td>\n      <td>male</td>\n      <td>8</td>\n      <td>1915</td>\n      <td>42705</td>\n      <td>ORTHOPEDIC</td>\n      <td>5</td>\n      <td>T0-3277</td>\n      <td>...</td>\n      <td>ORTHOPEDIC</td>\n      <td>Lx Patella Repair</td>\n      <td>305</td>\n      <td>Christopher</td>\n      <td>Bowers</td>\n      <td>3575 Woodbridge Lane</td>\n      <td>Detroit</td>\n      <td>MI</td>\n      <td>Michigan</td>\n      <td>48226</td>\n    </tr>\n    <tr>\n      <th>1360</th>\n      <td>M2-1131</td>\n      <td>Rumba</td>\n      <td>Cat</td>\n      <td>male</td>\n      <td>8</td>\n      <td>1915</td>\n      <td>42705</td>\n      <td>ORTHOPEDIC</td>\n      <td>5</td>\n      <td>T0-3277</td>\n      <td>...</td>\n      <td>GENERAL SURGERIES</td>\n      <td>Ear Crop</td>\n      <td>350</td>\n      <td>Christopher</td>\n      <td>Bowers</td>\n      <td>3575 Woodbridge Lane</td>\n      <td>Detroit</td>\n      <td>MI</td>\n      <td>Michigan</td>\n      <td>48226</td>\n    </tr>\n    <tr>\n      <th>1361</th>\n      <td>M2-1131</td>\n      <td>Rumba</td>\n      <td>Cat</td>\n      <td>male</td>\n      <td>8</td>\n      <td>1915</td>\n      <td>42705</td>\n      <td>ORTHOPEDIC</td>\n      <td>5</td>\n      <td>G6-6501</td>\n      <td>...</td>\n      <td>VACCINATIONS</td>\n      <td>Rabies</td>\n      <td>10</td>\n      <td>Christopher</td>\n      <td>Bowers</td>\n      <td>3575 Woodbridge Lane</td>\n      <td>Detroit</td>\n      <td>MI</td>\n      <td>Michigan</td>\n      <td>48226</td>\n    </tr>\n    <tr>\n      <th>1362</th>\n      <td>M2-1131</td>\n      <td>Rumba</td>\n      <td>Cat</td>\n      <td>male</td>\n      <td>8</td>\n      <td>1915</td>\n      <td>42705</td>\n      <td>ORTHOPEDIC</td>\n      <td>5</td>\n      <td>G6-6501</td>\n      <td>...</td>\n      <td>ORTHOPEDIC</td>\n      <td>Lx Patella Repair</td>\n      <td>305</td>\n      <td>Christopher</td>\n      <td>Bowers</td>\n      <td>3575 Woodbridge Lane</td>\n      <td>Detroit</td>\n      <td>MI</td>\n      <td>Michigan</td>\n      <td>48226</td>\n    </tr>\n    <tr>\n      <th>...</th>\n      <td>...</td>\n      <td>...</td>\n      <td>...</td>\n      <td>...</td>\n      <td>...</td>\n      <td>...</td>\n      <td>...</td>\n      <td>...</td>\n      <td>...</td>\n      <td>...</td>\n      <td>...</td>\n      <td>...</td>\n      <td>...</td>\n      <td>...</td>\n      <td>...</td>\n      <td>...</td>\n      <td>...</td>\n      <td>...</td>\n      <td>...</td>\n      <td>...</td>\n      <td>...</td>\n    </tr>\n    <tr>\n      <th>1443</th>\n      <td>M2-1131</td>\n      <td>Rumba</td>\n      <td>Cat</td>\n      <td>male</td>\n      <td>8</td>\n      <td>1915</td>\n      <td>42705</td>\n      <td>ORTHOPEDIC</td>\n      <td>5</td>\n      <td>H2-8586</td>\n      <td>...</td>\n      <td>ORTHOPEDIC</td>\n      <td>Lx Patella Repair</td>\n      <td>305</td>\n      <td>Christopher</td>\n      <td>Bowers</td>\n      <td>3575 Woodbridge Lane</td>\n      <td>Detroit</td>\n      <td>MI</td>\n      <td>Michigan</td>\n      <td>48226</td>\n    </tr>\n    <tr>\n      <th>1444</th>\n      <td>M2-1131</td>\n      <td>Rumba</td>\n      <td>Cat</td>\n      <td>male</td>\n      <td>8</td>\n      <td>1915</td>\n      <td>42705</td>\n      <td>ORTHOPEDIC</td>\n      <td>5</td>\n      <td>H2-8586</td>\n      <td>...</td>\n      <td>GENERAL SURGERIES</td>\n      <td>Ear Crop</td>\n      <td>350</td>\n      <td>Christopher</td>\n      <td>Bowers</td>\n      <td>3575 Woodbridge Lane</td>\n      <td>Detroit</td>\n      <td>MI</td>\n      <td>Michigan</td>\n      <td>48226</td>\n    </tr>\n    <tr>\n      <th>1445</th>\n      <td>M2-1131</td>\n      <td>Rumba</td>\n      <td>Cat</td>\n      <td>male</td>\n      <td>8</td>\n      <td>1915</td>\n      <td>42705</td>\n      <td>ORTHOPEDIC</td>\n      <td>5</td>\n      <td>L4-6292</td>\n      <td>...</td>\n      <td>VACCINATIONS</td>\n      <td>Rabies</td>\n      <td>10</td>\n      <td>Christopher</td>\n      <td>Bowers</td>\n      <td>3575 Woodbridge Lane</td>\n      <td>Detroit</td>\n      <td>MI</td>\n      <td>Michigan</td>\n      <td>48226</td>\n    </tr>\n    <tr>\n      <th>1446</th>\n      <td>M2-1131</td>\n      <td>Rumba</td>\n      <td>Cat</td>\n      <td>male</td>\n      <td>8</td>\n      <td>1915</td>\n      <td>42705</td>\n      <td>ORTHOPEDIC</td>\n      <td>5</td>\n      <td>L4-6292</td>\n      <td>...</td>\n      <td>ORTHOPEDIC</td>\n      <td>Lx Patella Repair</td>\n      <td>305</td>\n      <td>Christopher</td>\n      <td>Bowers</td>\n      <td>3575 Woodbridge Lane</td>\n      <td>Detroit</td>\n      <td>MI</td>\n      <td>Michigan</td>\n      <td>48226</td>\n    </tr>\n    <tr>\n      <th>1447</th>\n      <td>M2-1131</td>\n      <td>Rumba</td>\n      <td>Cat</td>\n      <td>male</td>\n      <td>8</td>\n      <td>1915</td>\n      <td>42705</td>\n      <td>ORTHOPEDIC</td>\n      <td>5</td>\n      <td>L4-6292</td>\n      <td>...</td>\n      <td>GENERAL SURGERIES</td>\n      <td>Ear Crop</td>\n      <td>350</td>\n      <td>Christopher</td>\n      <td>Bowers</td>\n      <td>3575 Woodbridge Lane</td>\n      <td>Detroit</td>\n      <td>MI</td>\n      <td>Michigan</td>\n      <td>48226</td>\n    </tr>\n  </tbody>\n</table>\n<p>90 rows × 22 columns</p>\n</div>"
     },
     "metadata": {},
     "execution_count": 132
    }
   ],
   "source": [
    "detroit=final_merge[final_merge[\"City\"]=='Detroit']\n",
    "detroit"
   ]
  },
  {
   "cell_type": "code",
   "execution_count": null,
   "metadata": {},
   "outputs": [],
   "source": []
  },
  {
   "cell_type": "code",
   "execution_count": 144,
   "metadata": {},
   "outputs": [
    {
     "output_type": "execute_result",
     "data": {
      "text/plain": [
       "7.8"
      ]
     },
     "metadata": {},
     "execution_count": 144
    }
   ],
   "source": [
    "xda=owners.merge(pets,left_on='OwnerID', right_on='OwnerID')\n",
    "xs=xda[xda['City']=='Detroit']\n",
    "np.mean(xs[xs['Kind']=='Dog']['Age'])"
   ]
  },
  {
   "cell_type": "code",
   "execution_count": 145,
   "metadata": {},
   "outputs": [
    {
     "output_type": "execute_result",
     "data": {
      "text/plain": [
       "      PetID_x    Name_x    Kind  Gender  Age  OwnerID  Date_x  \\\n",
       "0     J6-8562    Brandy     Dog    male   11     5168   42603   \n",
       "1     J6-8562    Brandy     Dog    male   11     5168   42603   \n",
       "2     J6-8562    Brandy     Dog    male   11     5168   42603   \n",
       "3     J6-8562    Brandy     Dog    male   11     5168   42603   \n",
       "4     X0-8765   Vuitton  Parrot  female   11     7581   42646   \n",
       "...       ...       ...     ...     ...  ...      ...     ...   \n",
       "2807  Q2-3642  Thatcher  Parrot  female    8     8143   42642   \n",
       "2808  Q2-3642  Thatcher  Parrot  female    8     8143   42642   \n",
       "2809  J1-6366     Bruce     Dog    male    3     8316   42665   \n",
       "2810  P9-3625   Cuddles     Dog    male   14     7579   42399   \n",
       "2811  P9-3625   Cuddles     Dog    male   14     7579   42399   \n",
       "\n",
       "        ProcedureType_x  ProcedureSubCode  PetID_y  ...      ProcedureType  \\\n",
       "0     GENERAL SURGERIES                 8  J6-8562  ...         ORTHOPEDIC   \n",
       "1     GENERAL SURGERIES                 8  J6-8562  ...  GENERAL SURGERIES   \n",
       "2     GENERAL SURGERIES                 8  X0-8765  ...         ORTHOPEDIC   \n",
       "3     GENERAL SURGERIES                 8  X0-8765  ...  GENERAL SURGERIES   \n",
       "4     GENERAL SURGERIES                 8  J6-8562  ...         ORTHOPEDIC   \n",
       "...                 ...               ...      ...  ...                ...   \n",
       "2807         ORTHOPEDIC                 9  Q2-3642  ...         ORTHOPEDIC   \n",
       "2808         ORTHOPEDIC                 9  Q2-3642  ...  GENERAL SURGERIES   \n",
       "2809  GENERAL SURGERIES                17  J1-6366  ...  GENERAL SURGERIES   \n",
       "2810         ORTHOPEDIC                 7  P9-3625  ...         ORTHOPEDIC   \n",
       "2811         ORTHOPEDIC                 7  P9-3625  ...  GENERAL SURGERIES   \n",
       "\n",
       "             Description Price    Name_y   Surname        StreetAddress  \\\n",
       "0            Pin Removal    68    Robert    Foster   4680 Rubaiyat Road   \n",
       "1              Umbilical   175    Robert    Foster   4680 Rubaiyat Road   \n",
       "2            Pin Removal    68    Robert    Foster   4680 Rubaiyat Road   \n",
       "3              Umbilical   175    Robert    Foster   4680 Rubaiyat Road   \n",
       "4            Pin Removal    68  Florence     Nolen   3103 Howard Street   \n",
       "...                  ...   ...       ...       ...                  ...   \n",
       "2807        Cast Removal    40    Jackie  Hatmaker      949 John Avenue   \n",
       "2808            Perineal   375    Jackie  Hatmaker      949 John Avenue   \n",
       "2809  Radical Mastectomy   450    Daniel       Fay  894 Twin Oaks Drive   \n",
       "2810        Pinning-I.M.   325   Ricardo  Peterson   4963 Mahlon Street   \n",
       "2811              Hernia   390   Ricardo  Peterson   4963 Mahlon Street   \n",
       "\n",
       "              City State StateFull ZipCode  \n",
       "0     Grand Rapids    MI  Michigan   49503  \n",
       "1     Grand Rapids    MI  Michigan   49503  \n",
       "2     Grand Rapids    MI  Michigan   49503  \n",
       "3     Grand Rapids    MI  Michigan   49503  \n",
       "4     Grand Rapids    MI  Michigan   49503  \n",
       "...            ...   ...       ...     ...  \n",
       "2807  East Lansing    MI  Michigan   48823  \n",
       "2808  East Lansing    MI  Michigan   48823  \n",
       "2809  Grand Rapids    MI  Michigan   49503  \n",
       "2810     Ann Arbor    MI  Michigan   48104  \n",
       "2811     Ann Arbor    MI  Michigan   48104  \n",
       "\n",
       "[2812 rows x 22 columns]"
      ],
      "text/html": "<div>\n<style scoped>\n    .dataframe tbody tr th:only-of-type {\n        vertical-align: middle;\n    }\n\n    .dataframe tbody tr th {\n        vertical-align: top;\n    }\n\n    .dataframe thead th {\n        text-align: right;\n    }\n</style>\n<table border=\"1\" class=\"dataframe\">\n  <thead>\n    <tr style=\"text-align: right;\">\n      <th></th>\n      <th>PetID_x</th>\n      <th>Name_x</th>\n      <th>Kind</th>\n      <th>Gender</th>\n      <th>Age</th>\n      <th>OwnerID</th>\n      <th>Date_x</th>\n      <th>ProcedureType_x</th>\n      <th>ProcedureSubCode</th>\n      <th>PetID_y</th>\n      <th>...</th>\n      <th>ProcedureType</th>\n      <th>Description</th>\n      <th>Price</th>\n      <th>Name_y</th>\n      <th>Surname</th>\n      <th>StreetAddress</th>\n      <th>City</th>\n      <th>State</th>\n      <th>StateFull</th>\n      <th>ZipCode</th>\n    </tr>\n  </thead>\n  <tbody>\n    <tr>\n      <th>0</th>\n      <td>J6-8562</td>\n      <td>Brandy</td>\n      <td>Dog</td>\n      <td>male</td>\n      <td>11</td>\n      <td>5168</td>\n      <td>42603</td>\n      <td>GENERAL SURGERIES</td>\n      <td>8</td>\n      <td>J6-8562</td>\n      <td>...</td>\n      <td>ORTHOPEDIC</td>\n      <td>Pin Removal</td>\n      <td>68</td>\n      <td>Robert</td>\n      <td>Foster</td>\n      <td>4680 Rubaiyat Road</td>\n      <td>Grand Rapids</td>\n      <td>MI</td>\n      <td>Michigan</td>\n      <td>49503</td>\n    </tr>\n    <tr>\n      <th>1</th>\n      <td>J6-8562</td>\n      <td>Brandy</td>\n      <td>Dog</td>\n      <td>male</td>\n      <td>11</td>\n      <td>5168</td>\n      <td>42603</td>\n      <td>GENERAL SURGERIES</td>\n      <td>8</td>\n      <td>J6-8562</td>\n      <td>...</td>\n      <td>GENERAL SURGERIES</td>\n      <td>Umbilical</td>\n      <td>175</td>\n      <td>Robert</td>\n      <td>Foster</td>\n      <td>4680 Rubaiyat Road</td>\n      <td>Grand Rapids</td>\n      <td>MI</td>\n      <td>Michigan</td>\n      <td>49503</td>\n    </tr>\n    <tr>\n      <th>2</th>\n      <td>J6-8562</td>\n      <td>Brandy</td>\n      <td>Dog</td>\n      <td>male</td>\n      <td>11</td>\n      <td>5168</td>\n      <td>42603</td>\n      <td>GENERAL SURGERIES</td>\n      <td>8</td>\n      <td>X0-8765</td>\n      <td>...</td>\n      <td>ORTHOPEDIC</td>\n      <td>Pin Removal</td>\n      <td>68</td>\n      <td>Robert</td>\n      <td>Foster</td>\n      <td>4680 Rubaiyat Road</td>\n      <td>Grand Rapids</td>\n      <td>MI</td>\n      <td>Michigan</td>\n      <td>49503</td>\n    </tr>\n    <tr>\n      <th>3</th>\n      <td>J6-8562</td>\n      <td>Brandy</td>\n      <td>Dog</td>\n      <td>male</td>\n      <td>11</td>\n      <td>5168</td>\n      <td>42603</td>\n      <td>GENERAL SURGERIES</td>\n      <td>8</td>\n      <td>X0-8765</td>\n      <td>...</td>\n      <td>GENERAL SURGERIES</td>\n      <td>Umbilical</td>\n      <td>175</td>\n      <td>Robert</td>\n      <td>Foster</td>\n      <td>4680 Rubaiyat Road</td>\n      <td>Grand Rapids</td>\n      <td>MI</td>\n      <td>Michigan</td>\n      <td>49503</td>\n    </tr>\n    <tr>\n      <th>4</th>\n      <td>X0-8765</td>\n      <td>Vuitton</td>\n      <td>Parrot</td>\n      <td>female</td>\n      <td>11</td>\n      <td>7581</td>\n      <td>42646</td>\n      <td>GENERAL SURGERIES</td>\n      <td>8</td>\n      <td>J6-8562</td>\n      <td>...</td>\n      <td>ORTHOPEDIC</td>\n      <td>Pin Removal</td>\n      <td>68</td>\n      <td>Florence</td>\n      <td>Nolen</td>\n      <td>3103 Howard Street</td>\n      <td>Grand Rapids</td>\n      <td>MI</td>\n      <td>Michigan</td>\n      <td>49503</td>\n    </tr>\n    <tr>\n      <th>...</th>\n      <td>...</td>\n      <td>...</td>\n      <td>...</td>\n      <td>...</td>\n      <td>...</td>\n      <td>...</td>\n      <td>...</td>\n      <td>...</td>\n      <td>...</td>\n      <td>...</td>\n      <td>...</td>\n      <td>...</td>\n      <td>...</td>\n      <td>...</td>\n      <td>...</td>\n      <td>...</td>\n      <td>...</td>\n      <td>...</td>\n      <td>...</td>\n      <td>...</td>\n      <td>...</td>\n    </tr>\n    <tr>\n      <th>2807</th>\n      <td>Q2-3642</td>\n      <td>Thatcher</td>\n      <td>Parrot</td>\n      <td>female</td>\n      <td>8</td>\n      <td>8143</td>\n      <td>42642</td>\n      <td>ORTHOPEDIC</td>\n      <td>9</td>\n      <td>Q2-3642</td>\n      <td>...</td>\n      <td>ORTHOPEDIC</td>\n      <td>Cast Removal</td>\n      <td>40</td>\n      <td>Jackie</td>\n      <td>Hatmaker</td>\n      <td>949 John Avenue</td>\n      <td>East Lansing</td>\n      <td>MI</td>\n      <td>Michigan</td>\n      <td>48823</td>\n    </tr>\n    <tr>\n      <th>2808</th>\n      <td>Q2-3642</td>\n      <td>Thatcher</td>\n      <td>Parrot</td>\n      <td>female</td>\n      <td>8</td>\n      <td>8143</td>\n      <td>42642</td>\n      <td>ORTHOPEDIC</td>\n      <td>9</td>\n      <td>Q2-3642</td>\n      <td>...</td>\n      <td>GENERAL SURGERIES</td>\n      <td>Perineal</td>\n      <td>375</td>\n      <td>Jackie</td>\n      <td>Hatmaker</td>\n      <td>949 John Avenue</td>\n      <td>East Lansing</td>\n      <td>MI</td>\n      <td>Michigan</td>\n      <td>48823</td>\n    </tr>\n    <tr>\n      <th>2809</th>\n      <td>J1-6366</td>\n      <td>Bruce</td>\n      <td>Dog</td>\n      <td>male</td>\n      <td>3</td>\n      <td>8316</td>\n      <td>42665</td>\n      <td>GENERAL SURGERIES</td>\n      <td>17</td>\n      <td>J1-6366</td>\n      <td>...</td>\n      <td>GENERAL SURGERIES</td>\n      <td>Radical Mastectomy</td>\n      <td>450</td>\n      <td>Daniel</td>\n      <td>Fay</td>\n      <td>894 Twin Oaks Drive</td>\n      <td>Grand Rapids</td>\n      <td>MI</td>\n      <td>Michigan</td>\n      <td>49503</td>\n    </tr>\n    <tr>\n      <th>2810</th>\n      <td>P9-3625</td>\n      <td>Cuddles</td>\n      <td>Dog</td>\n      <td>male</td>\n      <td>14</td>\n      <td>7579</td>\n      <td>42399</td>\n      <td>ORTHOPEDIC</td>\n      <td>7</td>\n      <td>P9-3625</td>\n      <td>...</td>\n      <td>ORTHOPEDIC</td>\n      <td>Pinning-I.M.</td>\n      <td>325</td>\n      <td>Ricardo</td>\n      <td>Peterson</td>\n      <td>4963 Mahlon Street</td>\n      <td>Ann Arbor</td>\n      <td>MI</td>\n      <td>Michigan</td>\n      <td>48104</td>\n    </tr>\n    <tr>\n      <th>2811</th>\n      <td>P9-3625</td>\n      <td>Cuddles</td>\n      <td>Dog</td>\n      <td>male</td>\n      <td>14</td>\n      <td>7579</td>\n      <td>42399</td>\n      <td>ORTHOPEDIC</td>\n      <td>7</td>\n      <td>P9-3625</td>\n      <td>...</td>\n      <td>GENERAL SURGERIES</td>\n      <td>Hernia</td>\n      <td>390</td>\n      <td>Ricardo</td>\n      <td>Peterson</td>\n      <td>4963 Mahlon Street</td>\n      <td>Ann Arbor</td>\n      <td>MI</td>\n      <td>Michigan</td>\n      <td>48104</td>\n    </tr>\n  </tbody>\n</table>\n<p>2812 rows × 22 columns</p>\n</div>"
     },
     "metadata": {},
     "execution_count": 145
    }
   ],
   "source": [
    "final_merge"
   ]
  },
  {
   "cell_type": "code",
   "execution_count": null,
   "metadata": {},
   "outputs": [],
   "source": []
  },
  {
   "cell_type": "code",
   "execution_count": 156,
   "metadata": {},
   "outputs": [
    {
     "output_type": "execute_result",
     "data": {
      "text/plain": [
       "                   PetID_x  Name_x  Kind  Gender  Age  OwnerID  Date_x  \\\n",
       "ProcedureType_y                                                          \n",
       "GENERAL SURGERIES        9       9     9       9    9        9       9   \n",
       "GROOMING                10      10    10      10   10       10      10   \n",
       "ORTHOPEDIC              11      11    11      11   11       11      11   \n",
       "VACCINATIONS           261     261   261     261  261      261     261   \n",
       "\n",
       "                   ProcedureType_x  ProcedureSubCode  PetID_y  ...  \\\n",
       "ProcedureType_y                                                ...   \n",
       "GENERAL SURGERIES                9                 9        9  ...   \n",
       "GROOMING                        10                10       10  ...   \n",
       "ORTHOPEDIC                      11                11       11  ...   \n",
       "VACCINATIONS                   261               261      261  ...   \n",
       "\n",
       "                   ProcedureType  Description  Price  Name_y  Surname  \\\n",
       "ProcedureType_y                                                         \n",
       "GENERAL SURGERIES              9            9      9       9        9   \n",
       "GROOMING                      10           10     10      10       10   \n",
       "ORTHOPEDIC                    11           11     11      11       11   \n",
       "VACCINATIONS                 261          261    261     261      261   \n",
       "\n",
       "                   StreetAddress  City  State  StateFull  ZipCode  \n",
       "ProcedureType_y                                                    \n",
       "GENERAL SURGERIES              9     9      9          9        9  \n",
       "GROOMING                      10    10     10         10       10  \n",
       "ORTHOPEDIC                    11    11     11         11       11  \n",
       "VACCINATIONS                 261   261    261        261      261  \n",
       "\n",
       "[4 rows x 21 columns]"
      ],
      "text/html": "<div>\n<style scoped>\n    .dataframe tbody tr th:only-of-type {\n        vertical-align: middle;\n    }\n\n    .dataframe tbody tr th {\n        vertical-align: top;\n    }\n\n    .dataframe thead th {\n        text-align: right;\n    }\n</style>\n<table border=\"1\" class=\"dataframe\">\n  <thead>\n    <tr style=\"text-align: right;\">\n      <th></th>\n      <th>PetID_x</th>\n      <th>Name_x</th>\n      <th>Kind</th>\n      <th>Gender</th>\n      <th>Age</th>\n      <th>OwnerID</th>\n      <th>Date_x</th>\n      <th>ProcedureType_x</th>\n      <th>ProcedureSubCode</th>\n      <th>PetID_y</th>\n      <th>...</th>\n      <th>ProcedureType</th>\n      <th>Description</th>\n      <th>Price</th>\n      <th>Name_y</th>\n      <th>Surname</th>\n      <th>StreetAddress</th>\n      <th>City</th>\n      <th>State</th>\n      <th>StateFull</th>\n      <th>ZipCode</th>\n    </tr>\n    <tr>\n      <th>ProcedureType_y</th>\n      <th></th>\n      <th></th>\n      <th></th>\n      <th></th>\n      <th></th>\n      <th></th>\n      <th></th>\n      <th></th>\n      <th></th>\n      <th></th>\n      <th></th>\n      <th></th>\n      <th></th>\n      <th></th>\n      <th></th>\n      <th></th>\n      <th></th>\n      <th></th>\n      <th></th>\n      <th></th>\n      <th></th>\n    </tr>\n  </thead>\n  <tbody>\n    <tr>\n      <th>GENERAL SURGERIES</th>\n      <td>9</td>\n      <td>9</td>\n      <td>9</td>\n      <td>9</td>\n      <td>9</td>\n      <td>9</td>\n      <td>9</td>\n      <td>9</td>\n      <td>9</td>\n      <td>9</td>\n      <td>...</td>\n      <td>9</td>\n      <td>9</td>\n      <td>9</td>\n      <td>9</td>\n      <td>9</td>\n      <td>9</td>\n      <td>9</td>\n      <td>9</td>\n      <td>9</td>\n      <td>9</td>\n    </tr>\n    <tr>\n      <th>GROOMING</th>\n      <td>10</td>\n      <td>10</td>\n      <td>10</td>\n      <td>10</td>\n      <td>10</td>\n      <td>10</td>\n      <td>10</td>\n      <td>10</td>\n      <td>10</td>\n      <td>10</td>\n      <td>...</td>\n      <td>10</td>\n      <td>10</td>\n      <td>10</td>\n      <td>10</td>\n      <td>10</td>\n      <td>10</td>\n      <td>10</td>\n      <td>10</td>\n      <td>10</td>\n      <td>10</td>\n    </tr>\n    <tr>\n      <th>ORTHOPEDIC</th>\n      <td>11</td>\n      <td>11</td>\n      <td>11</td>\n      <td>11</td>\n      <td>11</td>\n      <td>11</td>\n      <td>11</td>\n      <td>11</td>\n      <td>11</td>\n      <td>11</td>\n      <td>...</td>\n      <td>11</td>\n      <td>11</td>\n      <td>11</td>\n      <td>11</td>\n      <td>11</td>\n      <td>11</td>\n      <td>11</td>\n      <td>11</td>\n      <td>11</td>\n      <td>11</td>\n    </tr>\n    <tr>\n      <th>VACCINATIONS</th>\n      <td>261</td>\n      <td>261</td>\n      <td>261</td>\n      <td>261</td>\n      <td>261</td>\n      <td>261</td>\n      <td>261</td>\n      <td>261</td>\n      <td>261</td>\n      <td>261</td>\n      <td>...</td>\n      <td>261</td>\n      <td>261</td>\n      <td>261</td>\n      <td>261</td>\n      <td>261</td>\n      <td>261</td>\n      <td>261</td>\n      <td>261</td>\n      <td>261</td>\n      <td>261</td>\n    </tr>\n  </tbody>\n</table>\n<p>4 rows × 21 columns</p>\n</div>"
     },
     "metadata": {},
     "execution_count": 156
    }
   ],
   "source": [
    "final_merge[final_merge['Kind']=='Parrot'].groupby('ProcedureType_y').count()"
   ]
  },
  {
   "cell_type": "code",
   "execution_count": 154,
   "metadata": {},
   "outputs": [
    {
     "output_type": "execute_result",
     "data": {
      "text/plain": [
       "      PetID_x    Name_x    Kind  Gender  Age  OwnerID  Date_x  \\\n",
       "0     J6-8562    Brandy     Dog    male   11     5168   42603   \n",
       "1     J6-8562    Brandy     Dog    male   11     5168   42603   \n",
       "2     J6-8562    Brandy     Dog    male   11     5168   42603   \n",
       "3     J6-8562    Brandy     Dog    male   11     5168   42603   \n",
       "4     X0-8765   Vuitton  Parrot  female   11     7581   42646   \n",
       "...       ...       ...     ...     ...  ...      ...     ...   \n",
       "2807  Q2-3642  Thatcher  Parrot  female    8     8143   42642   \n",
       "2808  Q2-3642  Thatcher  Parrot  female    8     8143   42642   \n",
       "2809  J1-6366     Bruce     Dog    male    3     8316   42665   \n",
       "2810  P9-3625   Cuddles     Dog    male   14     7579   42399   \n",
       "2811  P9-3625   Cuddles     Dog    male   14     7579   42399   \n",
       "\n",
       "        ProcedureType_x  ProcedureSubCode  PetID_y  ...      ProcedureType  \\\n",
       "0     GENERAL SURGERIES                 8  J6-8562  ...         ORTHOPEDIC   \n",
       "1     GENERAL SURGERIES                 8  J6-8562  ...  GENERAL SURGERIES   \n",
       "2     GENERAL SURGERIES                 8  X0-8765  ...         ORTHOPEDIC   \n",
       "3     GENERAL SURGERIES                 8  X0-8765  ...  GENERAL SURGERIES   \n",
       "4     GENERAL SURGERIES                 8  J6-8562  ...         ORTHOPEDIC   \n",
       "...                 ...               ...      ...  ...                ...   \n",
       "2807         ORTHOPEDIC                 9  Q2-3642  ...         ORTHOPEDIC   \n",
       "2808         ORTHOPEDIC                 9  Q2-3642  ...  GENERAL SURGERIES   \n",
       "2809  GENERAL SURGERIES                17  J1-6366  ...  GENERAL SURGERIES   \n",
       "2810         ORTHOPEDIC                 7  P9-3625  ...         ORTHOPEDIC   \n",
       "2811         ORTHOPEDIC                 7  P9-3625  ...  GENERAL SURGERIES   \n",
       "\n",
       "             Description Price    Name_y   Surname        StreetAddress  \\\n",
       "0            Pin Removal    68    Robert    Foster   4680 Rubaiyat Road   \n",
       "1              Umbilical   175    Robert    Foster   4680 Rubaiyat Road   \n",
       "2            Pin Removal    68    Robert    Foster   4680 Rubaiyat Road   \n",
       "3              Umbilical   175    Robert    Foster   4680 Rubaiyat Road   \n",
       "4            Pin Removal    68  Florence     Nolen   3103 Howard Street   \n",
       "...                  ...   ...       ...       ...                  ...   \n",
       "2807        Cast Removal    40    Jackie  Hatmaker      949 John Avenue   \n",
       "2808            Perineal   375    Jackie  Hatmaker      949 John Avenue   \n",
       "2809  Radical Mastectomy   450    Daniel       Fay  894 Twin Oaks Drive   \n",
       "2810        Pinning-I.M.   325   Ricardo  Peterson   4963 Mahlon Street   \n",
       "2811              Hernia   390   Ricardo  Peterson   4963 Mahlon Street   \n",
       "\n",
       "              City State StateFull ZipCode  \n",
       "0     Grand Rapids    MI  Michigan   49503  \n",
       "1     Grand Rapids    MI  Michigan   49503  \n",
       "2     Grand Rapids    MI  Michigan   49503  \n",
       "3     Grand Rapids    MI  Michigan   49503  \n",
       "4     Grand Rapids    MI  Michigan   49503  \n",
       "...            ...   ...       ...     ...  \n",
       "2807  East Lansing    MI  Michigan   48823  \n",
       "2808  East Lansing    MI  Michigan   48823  \n",
       "2809  Grand Rapids    MI  Michigan   49503  \n",
       "2810     Ann Arbor    MI  Michigan   48104  \n",
       "2811     Ann Arbor    MI  Michigan   48104  \n",
       "\n",
       "[2812 rows x 22 columns]"
      ],
      "text/html": "<div>\n<style scoped>\n    .dataframe tbody tr th:only-of-type {\n        vertical-align: middle;\n    }\n\n    .dataframe tbody tr th {\n        vertical-align: top;\n    }\n\n    .dataframe thead th {\n        text-align: right;\n    }\n</style>\n<table border=\"1\" class=\"dataframe\">\n  <thead>\n    <tr style=\"text-align: right;\">\n      <th></th>\n      <th>PetID_x</th>\n      <th>Name_x</th>\n      <th>Kind</th>\n      <th>Gender</th>\n      <th>Age</th>\n      <th>OwnerID</th>\n      <th>Date_x</th>\n      <th>ProcedureType_x</th>\n      <th>ProcedureSubCode</th>\n      <th>PetID_y</th>\n      <th>...</th>\n      <th>ProcedureType</th>\n      <th>Description</th>\n      <th>Price</th>\n      <th>Name_y</th>\n      <th>Surname</th>\n      <th>StreetAddress</th>\n      <th>City</th>\n      <th>State</th>\n      <th>StateFull</th>\n      <th>ZipCode</th>\n    </tr>\n  </thead>\n  <tbody>\n    <tr>\n      <th>0</th>\n      <td>J6-8562</td>\n      <td>Brandy</td>\n      <td>Dog</td>\n      <td>male</td>\n      <td>11</td>\n      <td>5168</td>\n      <td>42603</td>\n      <td>GENERAL SURGERIES</td>\n      <td>8</td>\n      <td>J6-8562</td>\n      <td>...</td>\n      <td>ORTHOPEDIC</td>\n      <td>Pin Removal</td>\n      <td>68</td>\n      <td>Robert</td>\n      <td>Foster</td>\n      <td>4680 Rubaiyat Road</td>\n      <td>Grand Rapids</td>\n      <td>MI</td>\n      <td>Michigan</td>\n      <td>49503</td>\n    </tr>\n    <tr>\n      <th>1</th>\n      <td>J6-8562</td>\n      <td>Brandy</td>\n      <td>Dog</td>\n      <td>male</td>\n      <td>11</td>\n      <td>5168</td>\n      <td>42603</td>\n      <td>GENERAL SURGERIES</td>\n      <td>8</td>\n      <td>J6-8562</td>\n      <td>...</td>\n      <td>GENERAL SURGERIES</td>\n      <td>Umbilical</td>\n      <td>175</td>\n      <td>Robert</td>\n      <td>Foster</td>\n      <td>4680 Rubaiyat Road</td>\n      <td>Grand Rapids</td>\n      <td>MI</td>\n      <td>Michigan</td>\n      <td>49503</td>\n    </tr>\n    <tr>\n      <th>2</th>\n      <td>J6-8562</td>\n      <td>Brandy</td>\n      <td>Dog</td>\n      <td>male</td>\n      <td>11</td>\n      <td>5168</td>\n      <td>42603</td>\n      <td>GENERAL SURGERIES</td>\n      <td>8</td>\n      <td>X0-8765</td>\n      <td>...</td>\n      <td>ORTHOPEDIC</td>\n      <td>Pin Removal</td>\n      <td>68</td>\n      <td>Robert</td>\n      <td>Foster</td>\n      <td>4680 Rubaiyat Road</td>\n      <td>Grand Rapids</td>\n      <td>MI</td>\n      <td>Michigan</td>\n      <td>49503</td>\n    </tr>\n    <tr>\n      <th>3</th>\n      <td>J6-8562</td>\n      <td>Brandy</td>\n      <td>Dog</td>\n      <td>male</td>\n      <td>11</td>\n      <td>5168</td>\n      <td>42603</td>\n      <td>GENERAL SURGERIES</td>\n      <td>8</td>\n      <td>X0-8765</td>\n      <td>...</td>\n      <td>GENERAL SURGERIES</td>\n      <td>Umbilical</td>\n      <td>175</td>\n      <td>Robert</td>\n      <td>Foster</td>\n      <td>4680 Rubaiyat Road</td>\n      <td>Grand Rapids</td>\n      <td>MI</td>\n      <td>Michigan</td>\n      <td>49503</td>\n    </tr>\n    <tr>\n      <th>4</th>\n      <td>X0-8765</td>\n      <td>Vuitton</td>\n      <td>Parrot</td>\n      <td>female</td>\n      <td>11</td>\n      <td>7581</td>\n      <td>42646</td>\n      <td>GENERAL SURGERIES</td>\n      <td>8</td>\n      <td>J6-8562</td>\n      <td>...</td>\n      <td>ORTHOPEDIC</td>\n      <td>Pin Removal</td>\n      <td>68</td>\n      <td>Florence</td>\n      <td>Nolen</td>\n      <td>3103 Howard Street</td>\n      <td>Grand Rapids</td>\n      <td>MI</td>\n      <td>Michigan</td>\n      <td>49503</td>\n    </tr>\n    <tr>\n      <th>...</th>\n      <td>...</td>\n      <td>...</td>\n      <td>...</td>\n      <td>...</td>\n      <td>...</td>\n      <td>...</td>\n      <td>...</td>\n      <td>...</td>\n      <td>...</td>\n      <td>...</td>\n      <td>...</td>\n      <td>...</td>\n      <td>...</td>\n      <td>...</td>\n      <td>...</td>\n      <td>...</td>\n      <td>...</td>\n      <td>...</td>\n      <td>...</td>\n      <td>...</td>\n      <td>...</td>\n    </tr>\n    <tr>\n      <th>2807</th>\n      <td>Q2-3642</td>\n      <td>Thatcher</td>\n      <td>Parrot</td>\n      <td>female</td>\n      <td>8</td>\n      <td>8143</td>\n      <td>42642</td>\n      <td>ORTHOPEDIC</td>\n      <td>9</td>\n      <td>Q2-3642</td>\n      <td>...</td>\n      <td>ORTHOPEDIC</td>\n      <td>Cast Removal</td>\n      <td>40</td>\n      <td>Jackie</td>\n      <td>Hatmaker</td>\n      <td>949 John Avenue</td>\n      <td>East Lansing</td>\n      <td>MI</td>\n      <td>Michigan</td>\n      <td>48823</td>\n    </tr>\n    <tr>\n      <th>2808</th>\n      <td>Q2-3642</td>\n      <td>Thatcher</td>\n      <td>Parrot</td>\n      <td>female</td>\n      <td>8</td>\n      <td>8143</td>\n      <td>42642</td>\n      <td>ORTHOPEDIC</td>\n      <td>9</td>\n      <td>Q2-3642</td>\n      <td>...</td>\n      <td>GENERAL SURGERIES</td>\n      <td>Perineal</td>\n      <td>375</td>\n      <td>Jackie</td>\n      <td>Hatmaker</td>\n      <td>949 John Avenue</td>\n      <td>East Lansing</td>\n      <td>MI</td>\n      <td>Michigan</td>\n      <td>48823</td>\n    </tr>\n    <tr>\n      <th>2809</th>\n      <td>J1-6366</td>\n      <td>Bruce</td>\n      <td>Dog</td>\n      <td>male</td>\n      <td>3</td>\n      <td>8316</td>\n      <td>42665</td>\n      <td>GENERAL SURGERIES</td>\n      <td>17</td>\n      <td>J1-6366</td>\n      <td>...</td>\n      <td>GENERAL SURGERIES</td>\n      <td>Radical Mastectomy</td>\n      <td>450</td>\n      <td>Daniel</td>\n      <td>Fay</td>\n      <td>894 Twin Oaks Drive</td>\n      <td>Grand Rapids</td>\n      <td>MI</td>\n      <td>Michigan</td>\n      <td>49503</td>\n    </tr>\n    <tr>\n      <th>2810</th>\n      <td>P9-3625</td>\n      <td>Cuddles</td>\n      <td>Dog</td>\n      <td>male</td>\n      <td>14</td>\n      <td>7579</td>\n      <td>42399</td>\n      <td>ORTHOPEDIC</td>\n      <td>7</td>\n      <td>P9-3625</td>\n      <td>...</td>\n      <td>ORTHOPEDIC</td>\n      <td>Pinning-I.M.</td>\n      <td>325</td>\n      <td>Ricardo</td>\n      <td>Peterson</td>\n      <td>4963 Mahlon Street</td>\n      <td>Ann Arbor</td>\n      <td>MI</td>\n      <td>Michigan</td>\n      <td>48104</td>\n    </tr>\n    <tr>\n      <th>2811</th>\n      <td>P9-3625</td>\n      <td>Cuddles</td>\n      <td>Dog</td>\n      <td>male</td>\n      <td>14</td>\n      <td>7579</td>\n      <td>42399</td>\n      <td>ORTHOPEDIC</td>\n      <td>7</td>\n      <td>P9-3625</td>\n      <td>...</td>\n      <td>GENERAL SURGERIES</td>\n      <td>Hernia</td>\n      <td>390</td>\n      <td>Ricardo</td>\n      <td>Peterson</td>\n      <td>4963 Mahlon Street</td>\n      <td>Ann Arbor</td>\n      <td>MI</td>\n      <td>Michigan</td>\n      <td>48104</td>\n    </tr>\n  </tbody>\n</table>\n<p>2812 rows × 22 columns</p>\n</div>"
     },
     "metadata": {},
     "execution_count": 154
    }
   ],
   "source": [
    "final_merge"
   ]
  },
  {
   "cell_type": "code",
   "execution_count": 173,
   "metadata": {},
   "outputs": [
    {
     "output_type": "execute_result",
     "data": {
      "text/plain": [
       "   OwnerID Name_x_x Surname_x       StreetAddress_x      City_x State_x  \\\n",
       "0     8133   Stacey  Randolph         1145 D Street  Southfield      MI   \n",
       "1     8133   Stacey  Randolph         1145 D Street  Southfield      MI   \n",
       "2     3089      Lee  McKenzie  3295 Pinewood Avenue   Marquette      MI   \n",
       "3     3089      Lee  McKenzie  3295 Pinewood Avenue   Marquette      MI   \n",
       "\n",
       "  StateFull_x  ZipCode_x  PetID_x Name_y_x  ...       StreetAddress_y  \\\n",
       "0    Michigan      48075  G0-7675      Taz  ...         1145 D Street   \n",
       "1    Michigan      48075  O3-1895    Candy  ...         1145 D Street   \n",
       "2    Michigan      49855  L4-6292   Bright  ...  3295 Pinewood Avenue   \n",
       "3    Michigan      49855  I7-9550    Angel  ...  3295 Pinewood Avenue   \n",
       "\n",
       "       City_y  State_y StateFull_y ZipCode_y  PetID_y Name_y_y Kind_y  \\\n",
       "0  Southfield       MI    Michigan     48075  T0-3277  Humbert    Cat   \n",
       "1  Southfield       MI    Michigan     48075  T0-3277  Humbert    Cat   \n",
       "2   Marquette       MI    Michigan     49855  G6-6501     Jake    Cat   \n",
       "3   Marquette       MI    Michigan     49855  G6-6501     Jake    Cat   \n",
       "\n",
       "  Gender_y  Age_y  \n",
       "0     male     12  \n",
       "1     male     12  \n",
       "2     male      2  \n",
       "3     male      2  \n",
       "\n",
       "[4 rows x 25 columns]"
      ],
      "text/html": "<div>\n<style scoped>\n    .dataframe tbody tr th:only-of-type {\n        vertical-align: middle;\n    }\n\n    .dataframe tbody tr th {\n        vertical-align: top;\n    }\n\n    .dataframe thead th {\n        text-align: right;\n    }\n</style>\n<table border=\"1\" class=\"dataframe\">\n  <thead>\n    <tr style=\"text-align: right;\">\n      <th></th>\n      <th>OwnerID</th>\n      <th>Name_x_x</th>\n      <th>Surname_x</th>\n      <th>StreetAddress_x</th>\n      <th>City_x</th>\n      <th>State_x</th>\n      <th>StateFull_x</th>\n      <th>ZipCode_x</th>\n      <th>PetID_x</th>\n      <th>Name_y_x</th>\n      <th>...</th>\n      <th>StreetAddress_y</th>\n      <th>City_y</th>\n      <th>State_y</th>\n      <th>StateFull_y</th>\n      <th>ZipCode_y</th>\n      <th>PetID_y</th>\n      <th>Name_y_y</th>\n      <th>Kind_y</th>\n      <th>Gender_y</th>\n      <th>Age_y</th>\n    </tr>\n  </thead>\n  <tbody>\n    <tr>\n      <th>0</th>\n      <td>8133</td>\n      <td>Stacey</td>\n      <td>Randolph</td>\n      <td>1145 D Street</td>\n      <td>Southfield</td>\n      <td>MI</td>\n      <td>Michigan</td>\n      <td>48075</td>\n      <td>G0-7675</td>\n      <td>Taz</td>\n      <td>...</td>\n      <td>1145 D Street</td>\n      <td>Southfield</td>\n      <td>MI</td>\n      <td>Michigan</td>\n      <td>48075</td>\n      <td>T0-3277</td>\n      <td>Humbert</td>\n      <td>Cat</td>\n      <td>male</td>\n      <td>12</td>\n    </tr>\n    <tr>\n      <th>1</th>\n      <td>8133</td>\n      <td>Stacey</td>\n      <td>Randolph</td>\n      <td>1145 D Street</td>\n      <td>Southfield</td>\n      <td>MI</td>\n      <td>Michigan</td>\n      <td>48075</td>\n      <td>O3-1895</td>\n      <td>Candy</td>\n      <td>...</td>\n      <td>1145 D Street</td>\n      <td>Southfield</td>\n      <td>MI</td>\n      <td>Michigan</td>\n      <td>48075</td>\n      <td>T0-3277</td>\n      <td>Humbert</td>\n      <td>Cat</td>\n      <td>male</td>\n      <td>12</td>\n    </tr>\n    <tr>\n      <th>2</th>\n      <td>3089</td>\n      <td>Lee</td>\n      <td>McKenzie</td>\n      <td>3295 Pinewood Avenue</td>\n      <td>Marquette</td>\n      <td>MI</td>\n      <td>Michigan</td>\n      <td>49855</td>\n      <td>L4-6292</td>\n      <td>Bright</td>\n      <td>...</td>\n      <td>3295 Pinewood Avenue</td>\n      <td>Marquette</td>\n      <td>MI</td>\n      <td>Michigan</td>\n      <td>49855</td>\n      <td>G6-6501</td>\n      <td>Jake</td>\n      <td>Cat</td>\n      <td>male</td>\n      <td>2</td>\n    </tr>\n    <tr>\n      <th>3</th>\n      <td>3089</td>\n      <td>Lee</td>\n      <td>McKenzie</td>\n      <td>3295 Pinewood Avenue</td>\n      <td>Marquette</td>\n      <td>MI</td>\n      <td>Michigan</td>\n      <td>49855</td>\n      <td>I7-9550</td>\n      <td>Angel</td>\n      <td>...</td>\n      <td>3295 Pinewood Avenue</td>\n      <td>Marquette</td>\n      <td>MI</td>\n      <td>Michigan</td>\n      <td>49855</td>\n      <td>G6-6501</td>\n      <td>Jake</td>\n      <td>Cat</td>\n      <td>male</td>\n      <td>2</td>\n    </tr>\n  </tbody>\n</table>\n<p>4 rows × 25 columns</p>\n</div>"
     },
     "metadata": {},
     "execution_count": 173
    }
   ],
   "source": [
    "xda=owners.merge(pets,left_on='OwnerID', right_on='OwnerID')\n",
    "perro=xda[xda['Kind']==\"Dog\"]\n",
    "gato=xda[xda['Kind']==\"Cat\"]\n",
    "perro.merge(gato,left_on='OwnerID',right_on='OwnerID')"
   ]
  },
  {
   "cell_type": "code",
   "execution_count": null,
   "metadata": {},
   "outputs": [],
   "source": []
  },
  {
   "cell_type": "code",
   "execution_count": 203,
   "metadata": {},
   "outputs": [
    {
     "output_type": "execute_result",
     "data": {
      "text/plain": [
       "    OwnerID     Name_x     Surname           StreetAddress  \\\n",
       "0      6049     Debbie    Metivier         315 Goff Avenue   \n",
       "1      2863       John   Sebastian       3221 Perry Street   \n",
       "2      3518     Connie      Pauley   1539 Cunningham Court   \n",
       "3      3663       Lena  Haliburton    4217 Twin Oaks Drive   \n",
       "4      1070    Jessica   Velazquez    3861 Woodbridge Lane   \n",
       "5      7101     Bessie         Yen     30 Cunningham Court   \n",
       "7      6194      Karen      Torres      3941 Ritter Avenue   \n",
       "8      5833       Mary     Hurtado      4865 Juniper Drive   \n",
       "26     6406  Catherine     Hundley      1381 Wildrose Lane   \n",
       "45     8215        Max       Smith      1054 Hayhurst Lane   \n",
       "63     6102     Robert   Partridge     704 Railroad Street   \n",
       "73     4185     Andrew     Salazar       1968 Veltri Drive   \n",
       "74     4110    Gregory      Aucoin         4849 Elk Avenue   \n",
       "75     7085       Gene        Kern    4265 Pinewood Avenue   \n",
       "76     3089        Lee    McKenzie    3295 Pinewood Avenue   \n",
       "79     8316     Daniel         Fay     894 Twin Oaks Drive   \n",
       "80     5502       Raul       North    4838 Corpening Drive   \n",
       "81     3691    Richard        Duke       78 Amethyst Drive   \n",
       "82     2809      Bruce       Dunne       4119 Kimberly Way   \n",
       "86     9604    William         Tea  367 Cherry Ridge Drive   \n",
       "87     1899    Jeffrey       Moore          2420 Echo Lane   \n",
       "92     5168     Robert      Foster      4680 Rubaiyat Road   \n",
       "99     1546     Joseph        Blow            556 D Street   \n",
       "\n",
       "                   City State StateFull  ZipCode    PetID     Name_y    Kind  \\\n",
       "0          Grand Rapids    MI  Michigan    49503  I6-9459    Biscuit     Dog   \n",
       "1               Davison    MI  Michigan    48423  R4-6131    Biscuit     Dog   \n",
       "2   Bloomfield Township    MI  Michigan    48302  N6-7350    Biscuit     Dog   \n",
       "3         Traverse City    MI  Michigan    49684  U4-6674    Biscuit     Dog   \n",
       "4            Southfield    MI  Michigan    48034  U8-6473    Biscuit     Dog   \n",
       "5       Rochester Hills    MI  Michigan    48306  S4-0789    Biscuit     Dog   \n",
       "7           Center Line    MI  Michigan    48015  O6-3123    Biscuit     Dog   \n",
       "8         Saint Charles    MI  Michigan    48655  T0-5705    Biscuit     Dog   \n",
       "26        Highland Park    MI  Michigan    48203  X6-4876     Brandy     Cat   \n",
       "45              Pontiac    MI  Michigan    48342  J8-7429  Bonaparte     Dog   \n",
       "63            Marquette    MI  Michigan    49855  H8-8856     Bandit  Parrot   \n",
       "73            Marquette    MI  Michigan    49855  O5-2472     Bright     Dog   \n",
       "74              Lansing    MI  Michigan    48933  Q0-8904     Bright     Dog   \n",
       "75       Bruce Crossing    MI  Michigan    49912  L8-9022     Bright     Dog   \n",
       "76            Marquette    MI  Michigan    49855  L4-6292     Bright     Dog   \n",
       "79         Grand Rapids    MI  Michigan    49503  J1-6366      Bruce     Dog   \n",
       "80           Farmington    MI  Michigan    48336  L4-4030      Bruce     Dog   \n",
       "81              Lansing    MI  Michigan    48911  S4-1063      Bruce     Dog   \n",
       "82         Grand Rapids    MI  Michigan    49503  K0-8177      Bruce     Dog   \n",
       "86            Roseville    MI  Michigan    48066  F1-1855     Bandit  Parrot   \n",
       "87          Middleville    MI  Michigan    49333  O8-2501     Bandit  Parrot   \n",
       "92         Grand Rapids    MI  Michigan    49503  J6-8562     Brandy     Dog   \n",
       "99           Southfield    MI  Michigan    48075  U6-4890     Brandy     Dog   \n",
       "\n",
       "    Gender  Age  \n",
       "0   female    4  \n",
       "1   female    5  \n",
       "2   female    8  \n",
       "3   female    1  \n",
       "4   female    3  \n",
       "5   female   10  \n",
       "7   female    2  \n",
       "8   female    5  \n",
       "26  female    3  \n",
       "45    male    4  \n",
       "63    male   11  \n",
       "73    male   12  \n",
       "74    male    1  \n",
       "75    male    7  \n",
       "76    male   13  \n",
       "79    male    3  \n",
       "80    male    1  \n",
       "81    male    0  \n",
       "82    male   12  \n",
       "86    male    2  \n",
       "87    male    5  \n",
       "92    male   11  \n",
       "99    male    6  "
      ],
      "text/html": "<div>\n<style scoped>\n    .dataframe tbody tr th:only-of-type {\n        vertical-align: middle;\n    }\n\n    .dataframe tbody tr th {\n        vertical-align: top;\n    }\n\n    .dataframe thead th {\n        text-align: right;\n    }\n</style>\n<table border=\"1\" class=\"dataframe\">\n  <thead>\n    <tr style=\"text-align: right;\">\n      <th></th>\n      <th>OwnerID</th>\n      <th>Name_x</th>\n      <th>Surname</th>\n      <th>StreetAddress</th>\n      <th>City</th>\n      <th>State</th>\n      <th>StateFull</th>\n      <th>ZipCode</th>\n      <th>PetID</th>\n      <th>Name_y</th>\n      <th>Kind</th>\n      <th>Gender</th>\n      <th>Age</th>\n    </tr>\n  </thead>\n  <tbody>\n    <tr>\n      <th>0</th>\n      <td>6049</td>\n      <td>Debbie</td>\n      <td>Metivier</td>\n      <td>315 Goff Avenue</td>\n      <td>Grand Rapids</td>\n      <td>MI</td>\n      <td>Michigan</td>\n      <td>49503</td>\n      <td>I6-9459</td>\n      <td>Biscuit</td>\n      <td>Dog</td>\n      <td>female</td>\n      <td>4</td>\n    </tr>\n    <tr>\n      <th>1</th>\n      <td>2863</td>\n      <td>John</td>\n      <td>Sebastian</td>\n      <td>3221 Perry Street</td>\n      <td>Davison</td>\n      <td>MI</td>\n      <td>Michigan</td>\n      <td>48423</td>\n      <td>R4-6131</td>\n      <td>Biscuit</td>\n      <td>Dog</td>\n      <td>female</td>\n      <td>5</td>\n    </tr>\n    <tr>\n      <th>2</th>\n      <td>3518</td>\n      <td>Connie</td>\n      <td>Pauley</td>\n      <td>1539 Cunningham Court</td>\n      <td>Bloomfield Township</td>\n      <td>MI</td>\n      <td>Michigan</td>\n      <td>48302</td>\n      <td>N6-7350</td>\n      <td>Biscuit</td>\n      <td>Dog</td>\n      <td>female</td>\n      <td>8</td>\n    </tr>\n    <tr>\n      <th>3</th>\n      <td>3663</td>\n      <td>Lena</td>\n      <td>Haliburton</td>\n      <td>4217 Twin Oaks Drive</td>\n      <td>Traverse City</td>\n      <td>MI</td>\n      <td>Michigan</td>\n      <td>49684</td>\n      <td>U4-6674</td>\n      <td>Biscuit</td>\n      <td>Dog</td>\n      <td>female</td>\n      <td>1</td>\n    </tr>\n    <tr>\n      <th>4</th>\n      <td>1070</td>\n      <td>Jessica</td>\n      <td>Velazquez</td>\n      <td>3861 Woodbridge Lane</td>\n      <td>Southfield</td>\n      <td>MI</td>\n      <td>Michigan</td>\n      <td>48034</td>\n      <td>U8-6473</td>\n      <td>Biscuit</td>\n      <td>Dog</td>\n      <td>female</td>\n      <td>3</td>\n    </tr>\n    <tr>\n      <th>5</th>\n      <td>7101</td>\n      <td>Bessie</td>\n      <td>Yen</td>\n      <td>30 Cunningham Court</td>\n      <td>Rochester Hills</td>\n      <td>MI</td>\n      <td>Michigan</td>\n      <td>48306</td>\n      <td>S4-0789</td>\n      <td>Biscuit</td>\n      <td>Dog</td>\n      <td>female</td>\n      <td>10</td>\n    </tr>\n    <tr>\n      <th>7</th>\n      <td>6194</td>\n      <td>Karen</td>\n      <td>Torres</td>\n      <td>3941 Ritter Avenue</td>\n      <td>Center Line</td>\n      <td>MI</td>\n      <td>Michigan</td>\n      <td>48015</td>\n      <td>O6-3123</td>\n      <td>Biscuit</td>\n      <td>Dog</td>\n      <td>female</td>\n      <td>2</td>\n    </tr>\n    <tr>\n      <th>8</th>\n      <td>5833</td>\n      <td>Mary</td>\n      <td>Hurtado</td>\n      <td>4865 Juniper Drive</td>\n      <td>Saint Charles</td>\n      <td>MI</td>\n      <td>Michigan</td>\n      <td>48655</td>\n      <td>T0-5705</td>\n      <td>Biscuit</td>\n      <td>Dog</td>\n      <td>female</td>\n      <td>5</td>\n    </tr>\n    <tr>\n      <th>26</th>\n      <td>6406</td>\n      <td>Catherine</td>\n      <td>Hundley</td>\n      <td>1381 Wildrose Lane</td>\n      <td>Highland Park</td>\n      <td>MI</td>\n      <td>Michigan</td>\n      <td>48203</td>\n      <td>X6-4876</td>\n      <td>Brandy</td>\n      <td>Cat</td>\n      <td>female</td>\n      <td>3</td>\n    </tr>\n    <tr>\n      <th>45</th>\n      <td>8215</td>\n      <td>Max</td>\n      <td>Smith</td>\n      <td>1054 Hayhurst Lane</td>\n      <td>Pontiac</td>\n      <td>MI</td>\n      <td>Michigan</td>\n      <td>48342</td>\n      <td>J8-7429</td>\n      <td>Bonaparte</td>\n      <td>Dog</td>\n      <td>male</td>\n      <td>4</td>\n    </tr>\n    <tr>\n      <th>63</th>\n      <td>6102</td>\n      <td>Robert</td>\n      <td>Partridge</td>\n      <td>704 Railroad Street</td>\n      <td>Marquette</td>\n      <td>MI</td>\n      <td>Michigan</td>\n      <td>49855</td>\n      <td>H8-8856</td>\n      <td>Bandit</td>\n      <td>Parrot</td>\n      <td>male</td>\n      <td>11</td>\n    </tr>\n    <tr>\n      <th>73</th>\n      <td>4185</td>\n      <td>Andrew</td>\n      <td>Salazar</td>\n      <td>1968 Veltri Drive</td>\n      <td>Marquette</td>\n      <td>MI</td>\n      <td>Michigan</td>\n      <td>49855</td>\n      <td>O5-2472</td>\n      <td>Bright</td>\n      <td>Dog</td>\n      <td>male</td>\n      <td>12</td>\n    </tr>\n    <tr>\n      <th>74</th>\n      <td>4110</td>\n      <td>Gregory</td>\n      <td>Aucoin</td>\n      <td>4849 Elk Avenue</td>\n      <td>Lansing</td>\n      <td>MI</td>\n      <td>Michigan</td>\n      <td>48933</td>\n      <td>Q0-8904</td>\n      <td>Bright</td>\n      <td>Dog</td>\n      <td>male</td>\n      <td>1</td>\n    </tr>\n    <tr>\n      <th>75</th>\n      <td>7085</td>\n      <td>Gene</td>\n      <td>Kern</td>\n      <td>4265 Pinewood Avenue</td>\n      <td>Bruce Crossing</td>\n      <td>MI</td>\n      <td>Michigan</td>\n      <td>49912</td>\n      <td>L8-9022</td>\n      <td>Bright</td>\n      <td>Dog</td>\n      <td>male</td>\n      <td>7</td>\n    </tr>\n    <tr>\n      <th>76</th>\n      <td>3089</td>\n      <td>Lee</td>\n      <td>McKenzie</td>\n      <td>3295 Pinewood Avenue</td>\n      <td>Marquette</td>\n      <td>MI</td>\n      <td>Michigan</td>\n      <td>49855</td>\n      <td>L4-6292</td>\n      <td>Bright</td>\n      <td>Dog</td>\n      <td>male</td>\n      <td>13</td>\n    </tr>\n    <tr>\n      <th>79</th>\n      <td>8316</td>\n      <td>Daniel</td>\n      <td>Fay</td>\n      <td>894 Twin Oaks Drive</td>\n      <td>Grand Rapids</td>\n      <td>MI</td>\n      <td>Michigan</td>\n      <td>49503</td>\n      <td>J1-6366</td>\n      <td>Bruce</td>\n      <td>Dog</td>\n      <td>male</td>\n      <td>3</td>\n    </tr>\n    <tr>\n      <th>80</th>\n      <td>5502</td>\n      <td>Raul</td>\n      <td>North</td>\n      <td>4838 Corpening Drive</td>\n      <td>Farmington</td>\n      <td>MI</td>\n      <td>Michigan</td>\n      <td>48336</td>\n      <td>L4-4030</td>\n      <td>Bruce</td>\n      <td>Dog</td>\n      <td>male</td>\n      <td>1</td>\n    </tr>\n    <tr>\n      <th>81</th>\n      <td>3691</td>\n      <td>Richard</td>\n      <td>Duke</td>\n      <td>78 Amethyst Drive</td>\n      <td>Lansing</td>\n      <td>MI</td>\n      <td>Michigan</td>\n      <td>48911</td>\n      <td>S4-1063</td>\n      <td>Bruce</td>\n      <td>Dog</td>\n      <td>male</td>\n      <td>0</td>\n    </tr>\n    <tr>\n      <th>82</th>\n      <td>2809</td>\n      <td>Bruce</td>\n      <td>Dunne</td>\n      <td>4119 Kimberly Way</td>\n      <td>Grand Rapids</td>\n      <td>MI</td>\n      <td>Michigan</td>\n      <td>49503</td>\n      <td>K0-8177</td>\n      <td>Bruce</td>\n      <td>Dog</td>\n      <td>male</td>\n      <td>12</td>\n    </tr>\n    <tr>\n      <th>86</th>\n      <td>9604</td>\n      <td>William</td>\n      <td>Tea</td>\n      <td>367 Cherry Ridge Drive</td>\n      <td>Roseville</td>\n      <td>MI</td>\n      <td>Michigan</td>\n      <td>48066</td>\n      <td>F1-1855</td>\n      <td>Bandit</td>\n      <td>Parrot</td>\n      <td>male</td>\n      <td>2</td>\n    </tr>\n    <tr>\n      <th>87</th>\n      <td>1899</td>\n      <td>Jeffrey</td>\n      <td>Moore</td>\n      <td>2420 Echo Lane</td>\n      <td>Middleville</td>\n      <td>MI</td>\n      <td>Michigan</td>\n      <td>49333</td>\n      <td>O8-2501</td>\n      <td>Bandit</td>\n      <td>Parrot</td>\n      <td>male</td>\n      <td>5</td>\n    </tr>\n    <tr>\n      <th>92</th>\n      <td>5168</td>\n      <td>Robert</td>\n      <td>Foster</td>\n      <td>4680 Rubaiyat Road</td>\n      <td>Grand Rapids</td>\n      <td>MI</td>\n      <td>Michigan</td>\n      <td>49503</td>\n      <td>J6-8562</td>\n      <td>Brandy</td>\n      <td>Dog</td>\n      <td>male</td>\n      <td>11</td>\n    </tr>\n    <tr>\n      <th>99</th>\n      <td>1546</td>\n      <td>Joseph</td>\n      <td>Blow</td>\n      <td>556 D Street</td>\n      <td>Southfield</td>\n      <td>MI</td>\n      <td>Michigan</td>\n      <td>48075</td>\n      <td>U6-4890</td>\n      <td>Brandy</td>\n      <td>Dog</td>\n      <td>male</td>\n      <td>6</td>\n    </tr>\n  </tbody>\n</table>\n</div>"
     },
     "metadata": {},
     "execution_count": 203
    }
   ],
   "source": [
    "owner_ids=xda[xda['Name_y'].str.startswith('B')]\n",
    "owner_ids"
   ]
  },
  {
   "cell_type": "code",
   "execution_count": 207,
   "metadata": {},
   "outputs": [
    {
     "output_type": "execute_result",
     "data": {
      "text/plain": [
       "    OwnerID   Name_x_x   Surname_x         StreetAddress_x  \\\n",
       "0      6049     Debbie    Metivier         315 Goff Avenue   \n",
       "1      2863       John   Sebastian       3221 Perry Street   \n",
       "2      3518     Connie      Pauley   1539 Cunningham Court   \n",
       "3      3663       Lena  Haliburton    4217 Twin Oaks Drive   \n",
       "4      1070    Jessica   Velazquez    3861 Woodbridge Lane   \n",
       "5      7101     Bessie         Yen     30 Cunningham Court   \n",
       "6      6194      Karen      Torres      3941 Ritter Avenue   \n",
       "7      5833       Mary     Hurtado      4865 Juniper Drive   \n",
       "8      6406  Catherine     Hundley      1381 Wildrose Lane   \n",
       "9      8215        Max       Smith      1054 Hayhurst Lane   \n",
       "10     6102     Robert   Partridge     704 Railroad Street   \n",
       "11     6102     Robert   Partridge     704 Railroad Street   \n",
       "12     4185     Andrew     Salazar       1968 Veltri Drive   \n",
       "13     4110    Gregory      Aucoin         4849 Elk Avenue   \n",
       "14     7085       Gene        Kern    4265 Pinewood Avenue   \n",
       "15     3089        Lee    McKenzie    3295 Pinewood Avenue   \n",
       "16     3089        Lee    McKenzie    3295 Pinewood Avenue   \n",
       "17     3089        Lee    McKenzie    3295 Pinewood Avenue   \n",
       "18     8316     Daniel         Fay     894 Twin Oaks Drive   \n",
       "19     5502       Raul       North    4838 Corpening Drive   \n",
       "20     3691    Richard        Duke       78 Amethyst Drive   \n",
       "21     2809      Bruce       Dunne       4119 Kimberly Way   \n",
       "22     9604    William         Tea  367 Cherry Ridge Drive   \n",
       "23     1899    Jeffrey       Moore          2420 Echo Lane   \n",
       "24     5168     Robert      Foster      4680 Rubaiyat Road   \n",
       "25     1546     Joseph        Blow            556 D Street   \n",
       "\n",
       "                 City_x State_x StateFull_x  ZipCode_x  PetID_x   Name_y_x  \\\n",
       "0          Grand Rapids      MI    Michigan      49503  I6-9459    Biscuit   \n",
       "1               Davison      MI    Michigan      48423  R4-6131    Biscuit   \n",
       "2   Bloomfield Township      MI    Michigan      48302  N6-7350    Biscuit   \n",
       "3         Traverse City      MI    Michigan      49684  U4-6674    Biscuit   \n",
       "4            Southfield      MI    Michigan      48034  U8-6473    Biscuit   \n",
       "5       Rochester Hills      MI    Michigan      48306  S4-0789    Biscuit   \n",
       "6           Center Line      MI    Michigan      48015  O6-3123    Biscuit   \n",
       "7         Saint Charles      MI    Michigan      48655  T0-5705    Biscuit   \n",
       "8         Highland Park      MI    Michigan      48203  X6-4876     Brandy   \n",
       "9               Pontiac      MI    Michigan      48342  J8-7429  Bonaparte   \n",
       "10            Marquette      MI    Michigan      49855  H8-8856     Bandit   \n",
       "11            Marquette      MI    Michigan      49855  W8-5750      Simba   \n",
       "12            Marquette      MI    Michigan      49855  O5-2472     Bright   \n",
       "13              Lansing      MI    Michigan      48933  Q0-8904     Bright   \n",
       "14       Bruce Crossing      MI    Michigan      49912  L8-9022     Bright   \n",
       "15            Marquette      MI    Michigan      49855  L4-6292     Bright   \n",
       "16            Marquette      MI    Michigan      49855  I7-9550      Angel   \n",
       "17            Marquette      MI    Michigan      49855  G6-6501       Jake   \n",
       "18         Grand Rapids      MI    Michigan      49503  J1-6366      Bruce   \n",
       "19           Farmington      MI    Michigan      48336  L4-4030      Bruce   \n",
       "20              Lansing      MI    Michigan      48911  S4-1063      Bruce   \n",
       "21         Grand Rapids      MI    Michigan      49503  K0-8177      Bruce   \n",
       "22            Roseville      MI    Michigan      48066  F1-1855     Bandit   \n",
       "23          Middleville      MI    Michigan      49333  O8-2501     Bandit   \n",
       "24         Grand Rapids      MI    Michigan      49503  J6-8562     Brandy   \n",
       "25           Southfield      MI    Michigan      48075  U6-4890     Brandy   \n",
       "\n",
       "    ...         StreetAddress_y               City_y  State_y StateFull_y  \\\n",
       "0   ...         315 Goff Avenue         Grand Rapids       MI    Michigan   \n",
       "1   ...       3221 Perry Street              Davison       MI    Michigan   \n",
       "2   ...   1539 Cunningham Court  Bloomfield Township       MI    Michigan   \n",
       "3   ...    4217 Twin Oaks Drive        Traverse City       MI    Michigan   \n",
       "4   ...    3861 Woodbridge Lane           Southfield       MI    Michigan   \n",
       "5   ...     30 Cunningham Court      Rochester Hills       MI    Michigan   \n",
       "6   ...      3941 Ritter Avenue          Center Line       MI    Michigan   \n",
       "7   ...      4865 Juniper Drive        Saint Charles       MI    Michigan   \n",
       "8   ...      1381 Wildrose Lane        Highland Park       MI    Michigan   \n",
       "9   ...      1054 Hayhurst Lane              Pontiac       MI    Michigan   \n",
       "10  ...     704 Railroad Street            Marquette       MI    Michigan   \n",
       "11  ...     704 Railroad Street            Marquette       MI    Michigan   \n",
       "12  ...       1968 Veltri Drive            Marquette       MI    Michigan   \n",
       "13  ...         4849 Elk Avenue              Lansing       MI    Michigan   \n",
       "14  ...    4265 Pinewood Avenue       Bruce Crossing       MI    Michigan   \n",
       "15  ...    3295 Pinewood Avenue            Marquette       MI    Michigan   \n",
       "16  ...    3295 Pinewood Avenue            Marquette       MI    Michigan   \n",
       "17  ...    3295 Pinewood Avenue            Marquette       MI    Michigan   \n",
       "18  ...     894 Twin Oaks Drive         Grand Rapids       MI    Michigan   \n",
       "19  ...    4838 Corpening Drive           Farmington       MI    Michigan   \n",
       "20  ...       78 Amethyst Drive              Lansing       MI    Michigan   \n",
       "21  ...       4119 Kimberly Way         Grand Rapids       MI    Michigan   \n",
       "22  ...  367 Cherry Ridge Drive            Roseville       MI    Michigan   \n",
       "23  ...          2420 Echo Lane          Middleville       MI    Michigan   \n",
       "24  ...      4680 Rubaiyat Road         Grand Rapids       MI    Michigan   \n",
       "25  ...            556 D Street           Southfield       MI    Michigan   \n",
       "\n",
       "   ZipCode_y  PetID_y   Name_y_y  Kind_y Gender_y  Age_y  \n",
       "0      49503  I6-9459    Biscuit     Dog   female      4  \n",
       "1      48423  R4-6131    Biscuit     Dog   female      5  \n",
       "2      48302  N6-7350    Biscuit     Dog   female      8  \n",
       "3      49684  U4-6674    Biscuit     Dog   female      1  \n",
       "4      48034  U8-6473    Biscuit     Dog   female      3  \n",
       "5      48306  S4-0789    Biscuit     Dog   female     10  \n",
       "6      48015  O6-3123    Biscuit     Dog   female      2  \n",
       "7      48655  T0-5705    Biscuit     Dog   female      5  \n",
       "8      48203  X6-4876     Brandy     Cat   female      3  \n",
       "9      48342  J8-7429  Bonaparte     Dog     male      4  \n",
       "10     49855  H8-8856     Bandit  Parrot     male     11  \n",
       "11     49855  H8-8856     Bandit  Parrot     male     11  \n",
       "12     49855  O5-2472     Bright     Dog     male     12  \n",
       "13     48933  Q0-8904     Bright     Dog     male      1  \n",
       "14     49912  L8-9022     Bright     Dog     male      7  \n",
       "15     49855  L4-6292     Bright     Dog     male     13  \n",
       "16     49855  L4-6292     Bright     Dog     male     13  \n",
       "17     49855  L4-6292     Bright     Dog     male     13  \n",
       "18     49503  J1-6366      Bruce     Dog     male      3  \n",
       "19     48336  L4-4030      Bruce     Dog     male      1  \n",
       "20     48911  S4-1063      Bruce     Dog     male      0  \n",
       "21     49503  K0-8177      Bruce     Dog     male     12  \n",
       "22     48066  F1-1855     Bandit  Parrot     male      2  \n",
       "23     49333  O8-2501     Bandit  Parrot     male      5  \n",
       "24     49503  J6-8562     Brandy     Dog     male     11  \n",
       "25     48075  U6-4890     Brandy     Dog     male      6  \n",
       "\n",
       "[26 rows x 25 columns]"
      ],
      "text/html": "<div>\n<style scoped>\n    .dataframe tbody tr th:only-of-type {\n        vertical-align: middle;\n    }\n\n    .dataframe tbody tr th {\n        vertical-align: top;\n    }\n\n    .dataframe thead th {\n        text-align: right;\n    }\n</style>\n<table border=\"1\" class=\"dataframe\">\n  <thead>\n    <tr style=\"text-align: right;\">\n      <th></th>\n      <th>OwnerID</th>\n      <th>Name_x_x</th>\n      <th>Surname_x</th>\n      <th>StreetAddress_x</th>\n      <th>City_x</th>\n      <th>State_x</th>\n      <th>StateFull_x</th>\n      <th>ZipCode_x</th>\n      <th>PetID_x</th>\n      <th>Name_y_x</th>\n      <th>...</th>\n      <th>StreetAddress_y</th>\n      <th>City_y</th>\n      <th>State_y</th>\n      <th>StateFull_y</th>\n      <th>ZipCode_y</th>\n      <th>PetID_y</th>\n      <th>Name_y_y</th>\n      <th>Kind_y</th>\n      <th>Gender_y</th>\n      <th>Age_y</th>\n    </tr>\n  </thead>\n  <tbody>\n    <tr>\n      <th>0</th>\n      <td>6049</td>\n      <td>Debbie</td>\n      <td>Metivier</td>\n      <td>315 Goff Avenue</td>\n      <td>Grand Rapids</td>\n      <td>MI</td>\n      <td>Michigan</td>\n      <td>49503</td>\n      <td>I6-9459</td>\n      <td>Biscuit</td>\n      <td>...</td>\n      <td>315 Goff Avenue</td>\n      <td>Grand Rapids</td>\n      <td>MI</td>\n      <td>Michigan</td>\n      <td>49503</td>\n      <td>I6-9459</td>\n      <td>Biscuit</td>\n      <td>Dog</td>\n      <td>female</td>\n      <td>4</td>\n    </tr>\n    <tr>\n      <th>1</th>\n      <td>2863</td>\n      <td>John</td>\n      <td>Sebastian</td>\n      <td>3221 Perry Street</td>\n      <td>Davison</td>\n      <td>MI</td>\n      <td>Michigan</td>\n      <td>48423</td>\n      <td>R4-6131</td>\n      <td>Biscuit</td>\n      <td>...</td>\n      <td>3221 Perry Street</td>\n      <td>Davison</td>\n      <td>MI</td>\n      <td>Michigan</td>\n      <td>48423</td>\n      <td>R4-6131</td>\n      <td>Biscuit</td>\n      <td>Dog</td>\n      <td>female</td>\n      <td>5</td>\n    </tr>\n    <tr>\n      <th>2</th>\n      <td>3518</td>\n      <td>Connie</td>\n      <td>Pauley</td>\n      <td>1539 Cunningham Court</td>\n      <td>Bloomfield Township</td>\n      <td>MI</td>\n      <td>Michigan</td>\n      <td>48302</td>\n      <td>N6-7350</td>\n      <td>Biscuit</td>\n      <td>...</td>\n      <td>1539 Cunningham Court</td>\n      <td>Bloomfield Township</td>\n      <td>MI</td>\n      <td>Michigan</td>\n      <td>48302</td>\n      <td>N6-7350</td>\n      <td>Biscuit</td>\n      <td>Dog</td>\n      <td>female</td>\n      <td>8</td>\n    </tr>\n    <tr>\n      <th>3</th>\n      <td>3663</td>\n      <td>Lena</td>\n      <td>Haliburton</td>\n      <td>4217 Twin Oaks Drive</td>\n      <td>Traverse City</td>\n      <td>MI</td>\n      <td>Michigan</td>\n      <td>49684</td>\n      <td>U4-6674</td>\n      <td>Biscuit</td>\n      <td>...</td>\n      <td>4217 Twin Oaks Drive</td>\n      <td>Traverse City</td>\n      <td>MI</td>\n      <td>Michigan</td>\n      <td>49684</td>\n      <td>U4-6674</td>\n      <td>Biscuit</td>\n      <td>Dog</td>\n      <td>female</td>\n      <td>1</td>\n    </tr>\n    <tr>\n      <th>4</th>\n      <td>1070</td>\n      <td>Jessica</td>\n      <td>Velazquez</td>\n      <td>3861 Woodbridge Lane</td>\n      <td>Southfield</td>\n      <td>MI</td>\n      <td>Michigan</td>\n      <td>48034</td>\n      <td>U8-6473</td>\n      <td>Biscuit</td>\n      <td>...</td>\n      <td>3861 Woodbridge Lane</td>\n      <td>Southfield</td>\n      <td>MI</td>\n      <td>Michigan</td>\n      <td>48034</td>\n      <td>U8-6473</td>\n      <td>Biscuit</td>\n      <td>Dog</td>\n      <td>female</td>\n      <td>3</td>\n    </tr>\n    <tr>\n      <th>5</th>\n      <td>7101</td>\n      <td>Bessie</td>\n      <td>Yen</td>\n      <td>30 Cunningham Court</td>\n      <td>Rochester Hills</td>\n      <td>MI</td>\n      <td>Michigan</td>\n      <td>48306</td>\n      <td>S4-0789</td>\n      <td>Biscuit</td>\n      <td>...</td>\n      <td>30 Cunningham Court</td>\n      <td>Rochester Hills</td>\n      <td>MI</td>\n      <td>Michigan</td>\n      <td>48306</td>\n      <td>S4-0789</td>\n      <td>Biscuit</td>\n      <td>Dog</td>\n      <td>female</td>\n      <td>10</td>\n    </tr>\n    <tr>\n      <th>6</th>\n      <td>6194</td>\n      <td>Karen</td>\n      <td>Torres</td>\n      <td>3941 Ritter Avenue</td>\n      <td>Center Line</td>\n      <td>MI</td>\n      <td>Michigan</td>\n      <td>48015</td>\n      <td>O6-3123</td>\n      <td>Biscuit</td>\n      <td>...</td>\n      <td>3941 Ritter Avenue</td>\n      <td>Center Line</td>\n      <td>MI</td>\n      <td>Michigan</td>\n      <td>48015</td>\n      <td>O6-3123</td>\n      <td>Biscuit</td>\n      <td>Dog</td>\n      <td>female</td>\n      <td>2</td>\n    </tr>\n    <tr>\n      <th>7</th>\n      <td>5833</td>\n      <td>Mary</td>\n      <td>Hurtado</td>\n      <td>4865 Juniper Drive</td>\n      <td>Saint Charles</td>\n      <td>MI</td>\n      <td>Michigan</td>\n      <td>48655</td>\n      <td>T0-5705</td>\n      <td>Biscuit</td>\n      <td>...</td>\n      <td>4865 Juniper Drive</td>\n      <td>Saint Charles</td>\n      <td>MI</td>\n      <td>Michigan</td>\n      <td>48655</td>\n      <td>T0-5705</td>\n      <td>Biscuit</td>\n      <td>Dog</td>\n      <td>female</td>\n      <td>5</td>\n    </tr>\n    <tr>\n      <th>8</th>\n      <td>6406</td>\n      <td>Catherine</td>\n      <td>Hundley</td>\n      <td>1381 Wildrose Lane</td>\n      <td>Highland Park</td>\n      <td>MI</td>\n      <td>Michigan</td>\n      <td>48203</td>\n      <td>X6-4876</td>\n      <td>Brandy</td>\n      <td>...</td>\n      <td>1381 Wildrose Lane</td>\n      <td>Highland Park</td>\n      <td>MI</td>\n      <td>Michigan</td>\n      <td>48203</td>\n      <td>X6-4876</td>\n      <td>Brandy</td>\n      <td>Cat</td>\n      <td>female</td>\n      <td>3</td>\n    </tr>\n    <tr>\n      <th>9</th>\n      <td>8215</td>\n      <td>Max</td>\n      <td>Smith</td>\n      <td>1054 Hayhurst Lane</td>\n      <td>Pontiac</td>\n      <td>MI</td>\n      <td>Michigan</td>\n      <td>48342</td>\n      <td>J8-7429</td>\n      <td>Bonaparte</td>\n      <td>...</td>\n      <td>1054 Hayhurst Lane</td>\n      <td>Pontiac</td>\n      <td>MI</td>\n      <td>Michigan</td>\n      <td>48342</td>\n      <td>J8-7429</td>\n      <td>Bonaparte</td>\n      <td>Dog</td>\n      <td>male</td>\n      <td>4</td>\n    </tr>\n    <tr>\n      <th>10</th>\n      <td>6102</td>\n      <td>Robert</td>\n      <td>Partridge</td>\n      <td>704 Railroad Street</td>\n      <td>Marquette</td>\n      <td>MI</td>\n      <td>Michigan</td>\n      <td>49855</td>\n      <td>H8-8856</td>\n      <td>Bandit</td>\n      <td>...</td>\n      <td>704 Railroad Street</td>\n      <td>Marquette</td>\n      <td>MI</td>\n      <td>Michigan</td>\n      <td>49855</td>\n      <td>H8-8856</td>\n      <td>Bandit</td>\n      <td>Parrot</td>\n      <td>male</td>\n      <td>11</td>\n    </tr>\n    <tr>\n      <th>11</th>\n      <td>6102</td>\n      <td>Robert</td>\n      <td>Partridge</td>\n      <td>704 Railroad Street</td>\n      <td>Marquette</td>\n      <td>MI</td>\n      <td>Michigan</td>\n      <td>49855</td>\n      <td>W8-5750</td>\n      <td>Simba</td>\n      <td>...</td>\n      <td>704 Railroad Street</td>\n      <td>Marquette</td>\n      <td>MI</td>\n      <td>Michigan</td>\n      <td>49855</td>\n      <td>H8-8856</td>\n      <td>Bandit</td>\n      <td>Parrot</td>\n      <td>male</td>\n      <td>11</td>\n    </tr>\n    <tr>\n      <th>12</th>\n      <td>4185</td>\n      <td>Andrew</td>\n      <td>Salazar</td>\n      <td>1968 Veltri Drive</td>\n      <td>Marquette</td>\n      <td>MI</td>\n      <td>Michigan</td>\n      <td>49855</td>\n      <td>O5-2472</td>\n      <td>Bright</td>\n      <td>...</td>\n      <td>1968 Veltri Drive</td>\n      <td>Marquette</td>\n      <td>MI</td>\n      <td>Michigan</td>\n      <td>49855</td>\n      <td>O5-2472</td>\n      <td>Bright</td>\n      <td>Dog</td>\n      <td>male</td>\n      <td>12</td>\n    </tr>\n    <tr>\n      <th>13</th>\n      <td>4110</td>\n      <td>Gregory</td>\n      <td>Aucoin</td>\n      <td>4849 Elk Avenue</td>\n      <td>Lansing</td>\n      <td>MI</td>\n      <td>Michigan</td>\n      <td>48933</td>\n      <td>Q0-8904</td>\n      <td>Bright</td>\n      <td>...</td>\n      <td>4849 Elk Avenue</td>\n      <td>Lansing</td>\n      <td>MI</td>\n      <td>Michigan</td>\n      <td>48933</td>\n      <td>Q0-8904</td>\n      <td>Bright</td>\n      <td>Dog</td>\n      <td>male</td>\n      <td>1</td>\n    </tr>\n    <tr>\n      <th>14</th>\n      <td>7085</td>\n      <td>Gene</td>\n      <td>Kern</td>\n      <td>4265 Pinewood Avenue</td>\n      <td>Bruce Crossing</td>\n      <td>MI</td>\n      <td>Michigan</td>\n      <td>49912</td>\n      <td>L8-9022</td>\n      <td>Bright</td>\n      <td>...</td>\n      <td>4265 Pinewood Avenue</td>\n      <td>Bruce Crossing</td>\n      <td>MI</td>\n      <td>Michigan</td>\n      <td>49912</td>\n      <td>L8-9022</td>\n      <td>Bright</td>\n      <td>Dog</td>\n      <td>male</td>\n      <td>7</td>\n    </tr>\n    <tr>\n      <th>15</th>\n      <td>3089</td>\n      <td>Lee</td>\n      <td>McKenzie</td>\n      <td>3295 Pinewood Avenue</td>\n      <td>Marquette</td>\n      <td>MI</td>\n      <td>Michigan</td>\n      <td>49855</td>\n      <td>L4-6292</td>\n      <td>Bright</td>\n      <td>...</td>\n      <td>3295 Pinewood Avenue</td>\n      <td>Marquette</td>\n      <td>MI</td>\n      <td>Michigan</td>\n      <td>49855</td>\n      <td>L4-6292</td>\n      <td>Bright</td>\n      <td>Dog</td>\n      <td>male</td>\n      <td>13</td>\n    </tr>\n    <tr>\n      <th>16</th>\n      <td>3089</td>\n      <td>Lee</td>\n      <td>McKenzie</td>\n      <td>3295 Pinewood Avenue</td>\n      <td>Marquette</td>\n      <td>MI</td>\n      <td>Michigan</td>\n      <td>49855</td>\n      <td>I7-9550</td>\n      <td>Angel</td>\n      <td>...</td>\n      <td>3295 Pinewood Avenue</td>\n      <td>Marquette</td>\n      <td>MI</td>\n      <td>Michigan</td>\n      <td>49855</td>\n      <td>L4-6292</td>\n      <td>Bright</td>\n      <td>Dog</td>\n      <td>male</td>\n      <td>13</td>\n    </tr>\n    <tr>\n      <th>17</th>\n      <td>3089</td>\n      <td>Lee</td>\n      <td>McKenzie</td>\n      <td>3295 Pinewood Avenue</td>\n      <td>Marquette</td>\n      <td>MI</td>\n      <td>Michigan</td>\n      <td>49855</td>\n      <td>G6-6501</td>\n      <td>Jake</td>\n      <td>...</td>\n      <td>3295 Pinewood Avenue</td>\n      <td>Marquette</td>\n      <td>MI</td>\n      <td>Michigan</td>\n      <td>49855</td>\n      <td>L4-6292</td>\n      <td>Bright</td>\n      <td>Dog</td>\n      <td>male</td>\n      <td>13</td>\n    </tr>\n    <tr>\n      <th>18</th>\n      <td>8316</td>\n      <td>Daniel</td>\n      <td>Fay</td>\n      <td>894 Twin Oaks Drive</td>\n      <td>Grand Rapids</td>\n      <td>MI</td>\n      <td>Michigan</td>\n      <td>49503</td>\n      <td>J1-6366</td>\n      <td>Bruce</td>\n      <td>...</td>\n      <td>894 Twin Oaks Drive</td>\n      <td>Grand Rapids</td>\n      <td>MI</td>\n      <td>Michigan</td>\n      <td>49503</td>\n      <td>J1-6366</td>\n      <td>Bruce</td>\n      <td>Dog</td>\n      <td>male</td>\n      <td>3</td>\n    </tr>\n    <tr>\n      <th>19</th>\n      <td>5502</td>\n      <td>Raul</td>\n      <td>North</td>\n      <td>4838 Corpening Drive</td>\n      <td>Farmington</td>\n      <td>MI</td>\n      <td>Michigan</td>\n      <td>48336</td>\n      <td>L4-4030</td>\n      <td>Bruce</td>\n      <td>...</td>\n      <td>4838 Corpening Drive</td>\n      <td>Farmington</td>\n      <td>MI</td>\n      <td>Michigan</td>\n      <td>48336</td>\n      <td>L4-4030</td>\n      <td>Bruce</td>\n      <td>Dog</td>\n      <td>male</td>\n      <td>1</td>\n    </tr>\n    <tr>\n      <th>20</th>\n      <td>3691</td>\n      <td>Richard</td>\n      <td>Duke</td>\n      <td>78 Amethyst Drive</td>\n      <td>Lansing</td>\n      <td>MI</td>\n      <td>Michigan</td>\n      <td>48911</td>\n      <td>S4-1063</td>\n      <td>Bruce</td>\n      <td>...</td>\n      <td>78 Amethyst Drive</td>\n      <td>Lansing</td>\n      <td>MI</td>\n      <td>Michigan</td>\n      <td>48911</td>\n      <td>S4-1063</td>\n      <td>Bruce</td>\n      <td>Dog</td>\n      <td>male</td>\n      <td>0</td>\n    </tr>\n    <tr>\n      <th>21</th>\n      <td>2809</td>\n      <td>Bruce</td>\n      <td>Dunne</td>\n      <td>4119 Kimberly Way</td>\n      <td>Grand Rapids</td>\n      <td>MI</td>\n      <td>Michigan</td>\n      <td>49503</td>\n      <td>K0-8177</td>\n      <td>Bruce</td>\n      <td>...</td>\n      <td>4119 Kimberly Way</td>\n      <td>Grand Rapids</td>\n      <td>MI</td>\n      <td>Michigan</td>\n      <td>49503</td>\n      <td>K0-8177</td>\n      <td>Bruce</td>\n      <td>Dog</td>\n      <td>male</td>\n      <td>12</td>\n    </tr>\n    <tr>\n      <th>22</th>\n      <td>9604</td>\n      <td>William</td>\n      <td>Tea</td>\n      <td>367 Cherry Ridge Drive</td>\n      <td>Roseville</td>\n      <td>MI</td>\n      <td>Michigan</td>\n      <td>48066</td>\n      <td>F1-1855</td>\n      <td>Bandit</td>\n      <td>...</td>\n      <td>367 Cherry Ridge Drive</td>\n      <td>Roseville</td>\n      <td>MI</td>\n      <td>Michigan</td>\n      <td>48066</td>\n      <td>F1-1855</td>\n      <td>Bandit</td>\n      <td>Parrot</td>\n      <td>male</td>\n      <td>2</td>\n    </tr>\n    <tr>\n      <th>23</th>\n      <td>1899</td>\n      <td>Jeffrey</td>\n      <td>Moore</td>\n      <td>2420 Echo Lane</td>\n      <td>Middleville</td>\n      <td>MI</td>\n      <td>Michigan</td>\n      <td>49333</td>\n      <td>O8-2501</td>\n      <td>Bandit</td>\n      <td>...</td>\n      <td>2420 Echo Lane</td>\n      <td>Middleville</td>\n      <td>MI</td>\n      <td>Michigan</td>\n      <td>49333</td>\n      <td>O8-2501</td>\n      <td>Bandit</td>\n      <td>Parrot</td>\n      <td>male</td>\n      <td>5</td>\n    </tr>\n    <tr>\n      <th>24</th>\n      <td>5168</td>\n      <td>Robert</td>\n      <td>Foster</td>\n      <td>4680 Rubaiyat Road</td>\n      <td>Grand Rapids</td>\n      <td>MI</td>\n      <td>Michigan</td>\n      <td>49503</td>\n      <td>J6-8562</td>\n      <td>Brandy</td>\n      <td>...</td>\n      <td>4680 Rubaiyat Road</td>\n      <td>Grand Rapids</td>\n      <td>MI</td>\n      <td>Michigan</td>\n      <td>49503</td>\n      <td>J6-8562</td>\n      <td>Brandy</td>\n      <td>Dog</td>\n      <td>male</td>\n      <td>11</td>\n    </tr>\n    <tr>\n      <th>25</th>\n      <td>1546</td>\n      <td>Joseph</td>\n      <td>Blow</td>\n      <td>556 D Street</td>\n      <td>Southfield</td>\n      <td>MI</td>\n      <td>Michigan</td>\n      <td>48075</td>\n      <td>U6-4890</td>\n      <td>Brandy</td>\n      <td>...</td>\n      <td>556 D Street</td>\n      <td>Southfield</td>\n      <td>MI</td>\n      <td>Michigan</td>\n      <td>48075</td>\n      <td>U6-4890</td>\n      <td>Brandy</td>\n      <td>Dog</td>\n      <td>male</td>\n      <td>6</td>\n    </tr>\n  </tbody>\n</table>\n<p>26 rows × 25 columns</p>\n</div>"
     },
     "metadata": {},
     "execution_count": 207
    }
   ],
   "source": [
    "xda=owners.merge(pets,left_on='OwnerID', right_on='OwnerID')\n",
    "ida=xda.merge(owner_ids,right_on='OwnerID',left_on='OwnerID')\n",
    "ida"
   ]
  },
  {
   "cell_type": "code",
   "execution_count": null,
   "metadata": {},
   "outputs": [],
   "source": []
  }
 ]
}