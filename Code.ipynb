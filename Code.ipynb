{
 "metadata": {
  "language_info": {
   "codemirror_mode": {
    "name": "ipython",
    "version": 3
   },
   "file_extension": ".py",
   "mimetype": "text/x-python",
   "name": "python",
   "nbconvert_exporter": "python",
   "pygments_lexer": "ipython3",
   "version": "3.9.2"
  },
  "orig_nbformat": 2,
  "kernelspec": {
   "name": "python392jvsc74a57bd0ac2eaa0ea0ebeafcc7822e65e46aa9d4f966f30b695406963e145ea4a91cd4fc",
   "display_name": "Python 3.9.2 64-bit ('python@3.9')"
  },
  "metadata": {
   "interpreter": {
    "hash": "ac2eaa0ea0ebeafcc7822e65e46aa9d4f966f30b695406963e145ea4a91cd4fc"
   }
  }
 },
 "nbformat": 4,
 "nbformat_minor": 2,
 "cells": [
  {
   "cell_type": "code",
   "execution_count": 2,
   "metadata": {},
   "outputs": [],
   "source": [
    "import pandas as pd\n",
    "import numpy as np"
   ]
  },
  {
   "cell_type": "code",
   "execution_count": 3,
   "metadata": {},
   "outputs": [],
   "source": [
    "# import data\n",
    "owners=pd.read_csv(\"/Users/srikarprayaga/Desktop/Denver-Broncos-Data-Science-Intern-Prework-/data/owners.csv\")\n",
    "pets=pd.read_csv(\"/Users/srikarprayaga/Desktop/Denver-Broncos-Data-Science-Intern-Prework-/data/pets.csv\")\n",
    "procedure_details=pd.read_csv(\"/Users/srikarprayaga/Desktop/Denver-Broncos-Data-Science-Intern-Prework-/data/procedure_details.csv\")\n",
    "procedures=pd.read_csv(\"/Users/srikarprayaga/Desktop/Denver-Broncos-Data-Science-Intern-Prework-/data/procedures.csv\")"
   ]
  },
  {
   "cell_type": "code",
   "execution_count": 5,
   "metadata": {},
   "outputs": [
    {
     "output_type": "execute_result",
     "data": {
      "text/plain": [
       "   OwnerID     Name     Surname          StreetAddress                 City  \\\n",
       "0     6049   Debbie    Metivier        315 Goff Avenue         Grand Rapids   \n",
       "1     2863     John   Sebastian      3221 Perry Street              Davison   \n",
       "2     3518   Connie      Pauley  1539 Cunningham Court  Bloomfield Township   \n",
       "3     3663     Lena  Haliburton   4217 Twin Oaks Drive        Traverse City   \n",
       "4     1070  Jessica   Velazquez   3861 Woodbridge Lane           Southfield   \n",
       "5     7101   Bessie         Yen    30 Cunningham Court      Rochester Hills   \n",
       "6     2419    Luisa     Cuellar   1308 Shingleton Road            Kalamazoo   \n",
       "7     6194    Karen      Torres     3941 Ritter Avenue          Center Line   \n",
       "8     5833     Mary     Hurtado     4865 Juniper Drive        Saint Charles   \n",
       "9     9614   Carmen      Ingram       1056 Eagle Drive              Detroit   \n",
       "\n",
       "  State StateFull  ZipCode  \n",
       "0    MI  Michigan    49503  \n",
       "1    MI  Michigan    48423  \n",
       "2    MI  Michigan    48302  \n",
       "3    MI  Michigan    49684  \n",
       "4    MI  Michigan    48034  \n",
       "5    MI  Michigan    48306  \n",
       "6    MI  Michigan    49007  \n",
       "7    MI  Michigan    48015  \n",
       "8    MI  Michigan    48655  \n",
       "9    MI  Michigan    48219  "
      ],
      "text/html": "<div>\n<style scoped>\n    .dataframe tbody tr th:only-of-type {\n        vertical-align: middle;\n    }\n\n    .dataframe tbody tr th {\n        vertical-align: top;\n    }\n\n    .dataframe thead th {\n        text-align: right;\n    }\n</style>\n<table border=\"1\" class=\"dataframe\">\n  <thead>\n    <tr style=\"text-align: right;\">\n      <th></th>\n      <th>OwnerID</th>\n      <th>Name</th>\n      <th>Surname</th>\n      <th>StreetAddress</th>\n      <th>City</th>\n      <th>State</th>\n      <th>StateFull</th>\n      <th>ZipCode</th>\n    </tr>\n  </thead>\n  <tbody>\n    <tr>\n      <th>0</th>\n      <td>6049</td>\n      <td>Debbie</td>\n      <td>Metivier</td>\n      <td>315 Goff Avenue</td>\n      <td>Grand Rapids</td>\n      <td>MI</td>\n      <td>Michigan</td>\n      <td>49503</td>\n    </tr>\n    <tr>\n      <th>1</th>\n      <td>2863</td>\n      <td>John</td>\n      <td>Sebastian</td>\n      <td>3221 Perry Street</td>\n      <td>Davison</td>\n      <td>MI</td>\n      <td>Michigan</td>\n      <td>48423</td>\n    </tr>\n    <tr>\n      <th>2</th>\n      <td>3518</td>\n      <td>Connie</td>\n      <td>Pauley</td>\n      <td>1539 Cunningham Court</td>\n      <td>Bloomfield Township</td>\n      <td>MI</td>\n      <td>Michigan</td>\n      <td>48302</td>\n    </tr>\n    <tr>\n      <th>3</th>\n      <td>3663</td>\n      <td>Lena</td>\n      <td>Haliburton</td>\n      <td>4217 Twin Oaks Drive</td>\n      <td>Traverse City</td>\n      <td>MI</td>\n      <td>Michigan</td>\n      <td>49684</td>\n    </tr>\n    <tr>\n      <th>4</th>\n      <td>1070</td>\n      <td>Jessica</td>\n      <td>Velazquez</td>\n      <td>3861 Woodbridge Lane</td>\n      <td>Southfield</td>\n      <td>MI</td>\n      <td>Michigan</td>\n      <td>48034</td>\n    </tr>\n    <tr>\n      <th>5</th>\n      <td>7101</td>\n      <td>Bessie</td>\n      <td>Yen</td>\n      <td>30 Cunningham Court</td>\n      <td>Rochester Hills</td>\n      <td>MI</td>\n      <td>Michigan</td>\n      <td>48306</td>\n    </tr>\n    <tr>\n      <th>6</th>\n      <td>2419</td>\n      <td>Luisa</td>\n      <td>Cuellar</td>\n      <td>1308 Shingleton Road</td>\n      <td>Kalamazoo</td>\n      <td>MI</td>\n      <td>Michigan</td>\n      <td>49007</td>\n    </tr>\n    <tr>\n      <th>7</th>\n      <td>6194</td>\n      <td>Karen</td>\n      <td>Torres</td>\n      <td>3941 Ritter Avenue</td>\n      <td>Center Line</td>\n      <td>MI</td>\n      <td>Michigan</td>\n      <td>48015</td>\n    </tr>\n    <tr>\n      <th>8</th>\n      <td>5833</td>\n      <td>Mary</td>\n      <td>Hurtado</td>\n      <td>4865 Juniper Drive</td>\n      <td>Saint Charles</td>\n      <td>MI</td>\n      <td>Michigan</td>\n      <td>48655</td>\n    </tr>\n    <tr>\n      <th>9</th>\n      <td>9614</td>\n      <td>Carmen</td>\n      <td>Ingram</td>\n      <td>1056 Eagle Drive</td>\n      <td>Detroit</td>\n      <td>MI</td>\n      <td>Michigan</td>\n      <td>48219</td>\n    </tr>\n  </tbody>\n</table>\n</div>"
     },
     "metadata": {},
     "execution_count": 5
    }
   ],
   "source": [
    "owners.head(10)"
   ]
  },
  {
   "cell_type": "code",
   "execution_count": 6,
   "metadata": {},
   "outputs": [
    {
     "output_type": "execute_result",
     "data": {
      "text/plain": [
       "     PetID        Name    Kind  Gender  Age  OwnerID\n",
       "0  J6-8562      Brandy     Dog    male   11     5168\n",
       "1  Q0-2001      Roomba     Cat    male    9     5508\n",
       "2  M0-2904       Simba     Cat    male    1     3086\n",
       "3  R3-7551      Keller  Parrot  female    2     7908\n",
       "4  P2-7342     Cuddles     Dog    male   13     4378\n",
       "5  X0-8765     Vuitton  Parrot  female   11     7581\n",
       "6  Z4-5652       Priya     Cat  female    7     7343\n",
       "7  Z4-4045       Simba     Cat    male    0     2700\n",
       "8  M8-7852      Cookie     Cat  female    8     7606\n",
       "9  J2-3320  Heisenberg     Dog    male    3     1319"
      ],
      "text/html": "<div>\n<style scoped>\n    .dataframe tbody tr th:only-of-type {\n        vertical-align: middle;\n    }\n\n    .dataframe tbody tr th {\n        vertical-align: top;\n    }\n\n    .dataframe thead th {\n        text-align: right;\n    }\n</style>\n<table border=\"1\" class=\"dataframe\">\n  <thead>\n    <tr style=\"text-align: right;\">\n      <th></th>\n      <th>PetID</th>\n      <th>Name</th>\n      <th>Kind</th>\n      <th>Gender</th>\n      <th>Age</th>\n      <th>OwnerID</th>\n    </tr>\n  </thead>\n  <tbody>\n    <tr>\n      <th>0</th>\n      <td>J6-8562</td>\n      <td>Brandy</td>\n      <td>Dog</td>\n      <td>male</td>\n      <td>11</td>\n      <td>5168</td>\n    </tr>\n    <tr>\n      <th>1</th>\n      <td>Q0-2001</td>\n      <td>Roomba</td>\n      <td>Cat</td>\n      <td>male</td>\n      <td>9</td>\n      <td>5508</td>\n    </tr>\n    <tr>\n      <th>2</th>\n      <td>M0-2904</td>\n      <td>Simba</td>\n      <td>Cat</td>\n      <td>male</td>\n      <td>1</td>\n      <td>3086</td>\n    </tr>\n    <tr>\n      <th>3</th>\n      <td>R3-7551</td>\n      <td>Keller</td>\n      <td>Parrot</td>\n      <td>female</td>\n      <td>2</td>\n      <td>7908</td>\n    </tr>\n    <tr>\n      <th>4</th>\n      <td>P2-7342</td>\n      <td>Cuddles</td>\n      <td>Dog</td>\n      <td>male</td>\n      <td>13</td>\n      <td>4378</td>\n    </tr>\n    <tr>\n      <th>5</th>\n      <td>X0-8765</td>\n      <td>Vuitton</td>\n      <td>Parrot</td>\n      <td>female</td>\n      <td>11</td>\n      <td>7581</td>\n    </tr>\n    <tr>\n      <th>6</th>\n      <td>Z4-5652</td>\n      <td>Priya</td>\n      <td>Cat</td>\n      <td>female</td>\n      <td>7</td>\n      <td>7343</td>\n    </tr>\n    <tr>\n      <th>7</th>\n      <td>Z4-4045</td>\n      <td>Simba</td>\n      <td>Cat</td>\n      <td>male</td>\n      <td>0</td>\n      <td>2700</td>\n    </tr>\n    <tr>\n      <th>8</th>\n      <td>M8-7852</td>\n      <td>Cookie</td>\n      <td>Cat</td>\n      <td>female</td>\n      <td>8</td>\n      <td>7606</td>\n    </tr>\n    <tr>\n      <th>9</th>\n      <td>J2-3320</td>\n      <td>Heisenberg</td>\n      <td>Dog</td>\n      <td>male</td>\n      <td>3</td>\n      <td>1319</td>\n    </tr>\n  </tbody>\n</table>\n</div>"
     },
     "metadata": {},
     "execution_count": 6
    }
   ],
   "source": [
    "pets.head(10)"
   ]
  },
  {
   "cell_type": "code",
   "execution_count": 10,
   "metadata": {},
   "outputs": [
    {
     "output_type": "execute_result",
     "data": {
      "text/plain": [
       "  ProcedureType  ProcedureSubCode      Description  Price\n",
       "0   OFFICE FEES                 1      Office Call     32\n",
       "1   OFFICE FEES                 2        Emergency    100\n",
       "2   OFFICE FEES                 3             Reck     24\n",
       "3      GROOMING                 1             Bath     15\n",
       "4      GROOMING                 2         Flea Dip     15\n",
       "5      GROOMING                 3       Flea Spray     10\n",
       "6  VACCINATIONS                 1  Galaxie (DHLPP)     15\n",
       "7  VACCINATIONS                 2         Leukemia     20\n",
       "8  VACCINATIONS                 3             Lyme     15\n",
       "9  VACCINATIONS                 4              PCR     15"
      ],
      "text/html": "<div>\n<style scoped>\n    .dataframe tbody tr th:only-of-type {\n        vertical-align: middle;\n    }\n\n    .dataframe tbody tr th {\n        vertical-align: top;\n    }\n\n    .dataframe thead th {\n        text-align: right;\n    }\n</style>\n<table border=\"1\" class=\"dataframe\">\n  <thead>\n    <tr style=\"text-align: right;\">\n      <th></th>\n      <th>ProcedureType</th>\n      <th>ProcedureSubCode</th>\n      <th>Description</th>\n      <th>Price</th>\n    </tr>\n  </thead>\n  <tbody>\n    <tr>\n      <th>0</th>\n      <td>OFFICE FEES</td>\n      <td>1</td>\n      <td>Office Call</td>\n      <td>32</td>\n    </tr>\n    <tr>\n      <th>1</th>\n      <td>OFFICE FEES</td>\n      <td>2</td>\n      <td>Emergency</td>\n      <td>100</td>\n    </tr>\n    <tr>\n      <th>2</th>\n      <td>OFFICE FEES</td>\n      <td>3</td>\n      <td>Reck</td>\n      <td>24</td>\n    </tr>\n    <tr>\n      <th>3</th>\n      <td>GROOMING</td>\n      <td>1</td>\n      <td>Bath</td>\n      <td>15</td>\n    </tr>\n    <tr>\n      <th>4</th>\n      <td>GROOMING</td>\n      <td>2</td>\n      <td>Flea Dip</td>\n      <td>15</td>\n    </tr>\n    <tr>\n      <th>5</th>\n      <td>GROOMING</td>\n      <td>3</td>\n      <td>Flea Spray</td>\n      <td>10</td>\n    </tr>\n    <tr>\n      <th>6</th>\n      <td>VACCINATIONS</td>\n      <td>1</td>\n      <td>Galaxie (DHLPP)</td>\n      <td>15</td>\n    </tr>\n    <tr>\n      <th>7</th>\n      <td>VACCINATIONS</td>\n      <td>2</td>\n      <td>Leukemia</td>\n      <td>20</td>\n    </tr>\n    <tr>\n      <th>8</th>\n      <td>VACCINATIONS</td>\n      <td>3</td>\n      <td>Lyme</td>\n      <td>15</td>\n    </tr>\n    <tr>\n      <th>9</th>\n      <td>VACCINATIONS</td>\n      <td>4</td>\n      <td>PCR</td>\n      <td>15</td>\n    </tr>\n  </tbody>\n</table>\n</div>"
     },
     "metadata": {},
     "execution_count": 10
    }
   ],
   "source": [
    "procedure_details.head(10)"
   ]
  },
  {
   "cell_type": "code",
   "execution_count": 11,
   "metadata": {},
   "outputs": [
    {
     "output_type": "execute_result",
     "data": {
      "text/plain": [
       "     PetID   Date ProcedureType  ProcedureSubCode\n",
       "0  T0-3277  42391  VACCINATIONS                 5\n",
       "1  G6-6501  42398  VACCINATIONS                 5\n",
       "2  P9-3625  42399    ORTHOPEDIC                 7\n",
       "3  F1-1855  42402  VACCINATIONS                 5\n",
       "4  S1-2243  42404  VACCINATIONS                 5\n",
       "5  L8-0046  42405  VACCINATIONS                 5\n",
       "6  L4-6292  42405  VACCINATIONS                 5\n",
       "7  X0-8765  42447  VACCINATIONS                 5\n",
       "8  J8-7429  42494  VACCINATIONS                 5\n",
       "9  J8-7429  42498  VACCINATIONS                 5"
      ],
      "text/html": "<div>\n<style scoped>\n    .dataframe tbody tr th:only-of-type {\n        vertical-align: middle;\n    }\n\n    .dataframe tbody tr th {\n        vertical-align: top;\n    }\n\n    .dataframe thead th {\n        text-align: right;\n    }\n</style>\n<table border=\"1\" class=\"dataframe\">\n  <thead>\n    <tr style=\"text-align: right;\">\n      <th></th>\n      <th>PetID</th>\n      <th>Date</th>\n      <th>ProcedureType</th>\n      <th>ProcedureSubCode</th>\n    </tr>\n  </thead>\n  <tbody>\n    <tr>\n      <th>0</th>\n      <td>T0-3277</td>\n      <td>42391</td>\n      <td>VACCINATIONS</td>\n      <td>5</td>\n    </tr>\n    <tr>\n      <th>1</th>\n      <td>G6-6501</td>\n      <td>42398</td>\n      <td>VACCINATIONS</td>\n      <td>5</td>\n    </tr>\n    <tr>\n      <th>2</th>\n      <td>P9-3625</td>\n      <td>42399</td>\n      <td>ORTHOPEDIC</td>\n      <td>7</td>\n    </tr>\n    <tr>\n      <th>3</th>\n      <td>F1-1855</td>\n      <td>42402</td>\n      <td>VACCINATIONS</td>\n      <td>5</td>\n    </tr>\n    <tr>\n      <th>4</th>\n      <td>S1-2243</td>\n      <td>42404</td>\n      <td>VACCINATIONS</td>\n      <td>5</td>\n    </tr>\n    <tr>\n      <th>5</th>\n      <td>L8-0046</td>\n      <td>42405</td>\n      <td>VACCINATIONS</td>\n      <td>5</td>\n    </tr>\n    <tr>\n      <th>6</th>\n      <td>L4-6292</td>\n      <td>42405</td>\n      <td>VACCINATIONS</td>\n      <td>5</td>\n    </tr>\n    <tr>\n      <th>7</th>\n      <td>X0-8765</td>\n      <td>42447</td>\n      <td>VACCINATIONS</td>\n      <td>5</td>\n    </tr>\n    <tr>\n      <th>8</th>\n      <td>J8-7429</td>\n      <td>42494</td>\n      <td>VACCINATIONS</td>\n      <td>5</td>\n    </tr>\n    <tr>\n      <th>9</th>\n      <td>J8-7429</td>\n      <td>42498</td>\n      <td>VACCINATIONS</td>\n      <td>5</td>\n    </tr>\n  </tbody>\n</table>\n</div>"
     },
     "metadata": {},
     "execution_count": 11
    }
   ],
   "source": [
    "procedures.head(10)"
   ]
  },
  {
   "cell_type": "code",
   "execution_count": null,
   "metadata": {},
   "outputs": [],
   "source": []
  }
 ]
}